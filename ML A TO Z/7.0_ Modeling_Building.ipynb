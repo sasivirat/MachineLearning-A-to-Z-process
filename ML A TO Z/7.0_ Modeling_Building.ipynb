{
 "cells": [
  {
   "cell_type": "markdown",
   "id": "2233856c-3230-4ca2-8029-9690745de39c",
   "metadata": {},
   "source": [
    "# The ML Modeling Process Basics \n",
    "In this notebook, we will go through some of the basic techinques for modeling data. This is a companion workbook for the 365 Data Science course on ML Process. This notebook only foucses on implementation. Check out the course or the documentation for the in-depth explanations of each step\n",
    "\n",
    "In this case, we will be trying to predict if we can predict a stroke from the above dataset. \n",
    "\n",
    "We will cover:\n",
    "- Baseline creation\n",
    "- Model selection\n",
    "- Parameter tuning\n",
    "     - manual\n",
    "     - gridsearch\n",
    "     - random search\n",
    "     - basian optomization\n",
    "- Ensemble models\n",
    "\n",
    "\n",
    "### On the Data \n",
    "This dataset is a good representation of real world data that can have valuable impact when analyzed. We will be exploring the accuracy of different models for predicting if someone will purchase an auto insurance policy or not. We will first lightly explore the data, create our train, test / validation sets, then we will ceate a baseline model. To get the best results we will compare other algorithms to our basline and use various parameter tuning techniques to see which model produces the best results. At the end we will explore some ensemble models to see what produces the best results. \n",
    "\n",
    "The focus of this notebook is the modeling process. If you're interested in the specifics of differen machine learning algorithms, check out our other course specifically on that. "
   ]
  },
  {
   "cell_type": "markdown",
   "id": "5d2c04e0-5b60-48f2-8962-2bcfddaf7dd8",
   "metadata": {},
   "source": [
    "## Load Data\n",
    "\n",
    "Next, we'll need to load our AirBnb dataset. "
   ]
  },
  {
   "cell_type": "code",
   "execution_count": 1,
   "id": "212d83d7-c0e0-4f45-9e8e-3906cb910539",
   "metadata": {},
   "outputs": [],
   "source": [
    "import pandas as pd \n",
    "import numpy as np"
   ]
  },
  {
   "cell_type": "markdown",
   "id": "4a27276b-d891-4020-997c-b3f01aecfb0c",
   "metadata": {},
   "source": [
    "https://www.kaggle.com/datasets/sasivirat18/machine-learning-datasets"
   ]
  },
  {
   "cell_type": "code",
   "execution_count": 2,
   "id": "7523b366-75de-43b7-9888-ee46ad5df5af",
   "metadata": {},
   "outputs": [],
   "source": [
    "df = pd.read_csv(r\"C:\\Desktop\\Cross_sell_prediction.csv\")"
   ]
  },
  {
   "cell_type": "code",
   "execution_count": 3,
   "id": "e65f1cb9-050d-4955-8989-139c02ab4543",
   "metadata": {},
   "outputs": [
    {
     "data": {
      "text/html": [
       "<div>\n",
       "<style scoped>\n",
       "    .dataframe tbody tr th:only-of-type {\n",
       "        vertical-align: middle;\n",
       "    }\n",
       "\n",
       "    .dataframe tbody tr th {\n",
       "        vertical-align: top;\n",
       "    }\n",
       "\n",
       "    .dataframe thead th {\n",
       "        text-align: right;\n",
       "    }\n",
       "</style>\n",
       "<table border=\"1\" class=\"dataframe\">\n",
       "  <thead>\n",
       "    <tr style=\"text-align: right;\">\n",
       "      <th></th>\n",
       "      <th>id</th>\n",
       "      <th>Age</th>\n",
       "      <th>Driving_License</th>\n",
       "      <th>Region_Code</th>\n",
       "      <th>Previously_Insured</th>\n",
       "      <th>Annual_Premium</th>\n",
       "      <th>Policy_Sales_Channel</th>\n",
       "      <th>Vintage</th>\n",
       "      <th>Response</th>\n",
       "    </tr>\n",
       "  </thead>\n",
       "  <tbody>\n",
       "    <tr>\n",
       "      <th>count</th>\n",
       "      <td>381109.000000</td>\n",
       "      <td>381109.000000</td>\n",
       "      <td>381109.000000</td>\n",
       "      <td>381109.000000</td>\n",
       "      <td>381109.000000</td>\n",
       "      <td>381109.000000</td>\n",
       "      <td>381109.000000</td>\n",
       "      <td>381109.000000</td>\n",
       "      <td>381109.000000</td>\n",
       "    </tr>\n",
       "    <tr>\n",
       "      <th>mean</th>\n",
       "      <td>190555.000000</td>\n",
       "      <td>38.822584</td>\n",
       "      <td>0.997869</td>\n",
       "      <td>26.388807</td>\n",
       "      <td>0.458210</td>\n",
       "      <td>30564.389581</td>\n",
       "      <td>112.034295</td>\n",
       "      <td>154.347397</td>\n",
       "      <td>0.122563</td>\n",
       "    </tr>\n",
       "    <tr>\n",
       "      <th>std</th>\n",
       "      <td>110016.836208</td>\n",
       "      <td>15.511611</td>\n",
       "      <td>0.046110</td>\n",
       "      <td>13.229888</td>\n",
       "      <td>0.498251</td>\n",
       "      <td>17213.155057</td>\n",
       "      <td>54.203995</td>\n",
       "      <td>83.671304</td>\n",
       "      <td>0.327936</td>\n",
       "    </tr>\n",
       "    <tr>\n",
       "      <th>min</th>\n",
       "      <td>1.000000</td>\n",
       "      <td>20.000000</td>\n",
       "      <td>0.000000</td>\n",
       "      <td>0.000000</td>\n",
       "      <td>0.000000</td>\n",
       "      <td>2630.000000</td>\n",
       "      <td>1.000000</td>\n",
       "      <td>10.000000</td>\n",
       "      <td>0.000000</td>\n",
       "    </tr>\n",
       "    <tr>\n",
       "      <th>25%</th>\n",
       "      <td>95278.000000</td>\n",
       "      <td>25.000000</td>\n",
       "      <td>1.000000</td>\n",
       "      <td>15.000000</td>\n",
       "      <td>0.000000</td>\n",
       "      <td>24405.000000</td>\n",
       "      <td>29.000000</td>\n",
       "      <td>82.000000</td>\n",
       "      <td>0.000000</td>\n",
       "    </tr>\n",
       "    <tr>\n",
       "      <th>50%</th>\n",
       "      <td>190555.000000</td>\n",
       "      <td>36.000000</td>\n",
       "      <td>1.000000</td>\n",
       "      <td>28.000000</td>\n",
       "      <td>0.000000</td>\n",
       "      <td>31669.000000</td>\n",
       "      <td>133.000000</td>\n",
       "      <td>154.000000</td>\n",
       "      <td>0.000000</td>\n",
       "    </tr>\n",
       "    <tr>\n",
       "      <th>75%</th>\n",
       "      <td>285832.000000</td>\n",
       "      <td>49.000000</td>\n",
       "      <td>1.000000</td>\n",
       "      <td>35.000000</td>\n",
       "      <td>1.000000</td>\n",
       "      <td>39400.000000</td>\n",
       "      <td>152.000000</td>\n",
       "      <td>227.000000</td>\n",
       "      <td>0.000000</td>\n",
       "    </tr>\n",
       "    <tr>\n",
       "      <th>max</th>\n",
       "      <td>381109.000000</td>\n",
       "      <td>85.000000</td>\n",
       "      <td>1.000000</td>\n",
       "      <td>52.000000</td>\n",
       "      <td>1.000000</td>\n",
       "      <td>540165.000000</td>\n",
       "      <td>163.000000</td>\n",
       "      <td>299.000000</td>\n",
       "      <td>1.000000</td>\n",
       "    </tr>\n",
       "  </tbody>\n",
       "</table>\n",
       "</div>"
      ],
      "text/plain": [
       "                  id            Age  Driving_License    Region_Code  \\\n",
       "count  381109.000000  381109.000000    381109.000000  381109.000000   \n",
       "mean   190555.000000      38.822584         0.997869      26.388807   \n",
       "std    110016.836208      15.511611         0.046110      13.229888   \n",
       "min         1.000000      20.000000         0.000000       0.000000   \n",
       "25%     95278.000000      25.000000         1.000000      15.000000   \n",
       "50%    190555.000000      36.000000         1.000000      28.000000   \n",
       "75%    285832.000000      49.000000         1.000000      35.000000   \n",
       "max    381109.000000      85.000000         1.000000      52.000000   \n",
       "\n",
       "       Previously_Insured  Annual_Premium  Policy_Sales_Channel  \\\n",
       "count       381109.000000   381109.000000         381109.000000   \n",
       "mean             0.458210    30564.389581            112.034295   \n",
       "std              0.498251    17213.155057             54.203995   \n",
       "min              0.000000     2630.000000              1.000000   \n",
       "25%              0.000000    24405.000000             29.000000   \n",
       "50%              0.000000    31669.000000            133.000000   \n",
       "75%              1.000000    39400.000000            152.000000   \n",
       "max              1.000000   540165.000000            163.000000   \n",
       "\n",
       "             Vintage       Response  \n",
       "count  381109.000000  381109.000000  \n",
       "mean      154.347397       0.122563  \n",
       "std        83.671304       0.327936  \n",
       "min        10.000000       0.000000  \n",
       "25%        82.000000       0.000000  \n",
       "50%       154.000000       0.000000  \n",
       "75%       227.000000       0.000000  \n",
       "max       299.000000       1.000000  "
      ]
     },
     "execution_count": 3,
     "metadata": {},
     "output_type": "execute_result"
    }
   ],
   "source": [
    "#look at basic data for continuous variables \n",
    "df.describe()"
   ]
  },
  {
   "cell_type": "code",
   "execution_count": 4,
   "id": "f7ccc6e3-7c4f-495d-9d8c-97b578aea419",
   "metadata": {},
   "outputs": [
    {
     "data": {
      "text/html": [
       "<div>\n",
       "<style scoped>\n",
       "    .dataframe tbody tr th:only-of-type {\n",
       "        vertical-align: middle;\n",
       "    }\n",
       "\n",
       "    .dataframe tbody tr th {\n",
       "        vertical-align: top;\n",
       "    }\n",
       "\n",
       "    .dataframe thead th {\n",
       "        text-align: right;\n",
       "    }\n",
       "</style>\n",
       "<table border=\"1\" class=\"dataframe\">\n",
       "  <thead>\n",
       "    <tr style=\"text-align: right;\">\n",
       "      <th></th>\n",
       "      <th>Gender</th>\n",
       "      <th>Vehicle_Age</th>\n",
       "      <th>Vehicle_Damage</th>\n",
       "    </tr>\n",
       "  </thead>\n",
       "  <tbody>\n",
       "    <tr>\n",
       "      <th>count</th>\n",
       "      <td>381109</td>\n",
       "      <td>381109</td>\n",
       "      <td>381109</td>\n",
       "    </tr>\n",
       "    <tr>\n",
       "      <th>unique</th>\n",
       "      <td>2</td>\n",
       "      <td>3</td>\n",
       "      <td>2</td>\n",
       "    </tr>\n",
       "    <tr>\n",
       "      <th>top</th>\n",
       "      <td>Male</td>\n",
       "      <td>1-2 Year</td>\n",
       "      <td>Yes</td>\n",
       "    </tr>\n",
       "    <tr>\n",
       "      <th>freq</th>\n",
       "      <td>206089</td>\n",
       "      <td>200316</td>\n",
       "      <td>192413</td>\n",
       "    </tr>\n",
       "  </tbody>\n",
       "</table>\n",
       "</div>"
      ],
      "text/plain": [
       "        Gender Vehicle_Age Vehicle_Damage\n",
       "count   381109      381109         381109\n",
       "unique       2           3              2\n",
       "top       Male    1-2 Year            Yes\n",
       "freq    206089      200316         192413"
      ]
     },
     "execution_count": 4,
     "metadata": {},
     "output_type": "execute_result"
    }
   ],
   "source": [
    "df.describe(include=np.object)"
   ]
  },
  {
   "cell_type": "code",
   "execution_count": 5,
   "id": "6ac44642-76d4-40b2-98a2-1efb00e5b516",
   "metadata": {},
   "outputs": [
    {
     "data": {
      "text/plain": [
       "id                      0\n",
       "Gender                  0\n",
       "Age                     0\n",
       "Driving_License         0\n",
       "Region_Code             0\n",
       "Previously_Insured      0\n",
       "Vehicle_Age             0\n",
       "Vehicle_Damage          0\n",
       "Annual_Premium          0\n",
       "Policy_Sales_Channel    0\n",
       "Vintage                 0\n",
       "Response                0\n",
       "dtype: int64"
      ]
     },
     "execution_count": 5,
     "metadata": {},
     "output_type": "execute_result"
    }
   ],
   "source": [
    "#small enough number of null values we will just remove them.\n",
    "df.isnull().sum()"
   ]
  },
  {
   "cell_type": "code",
   "execution_count": 6,
   "id": "e26ff52f-d10c-49a3-8ed6-8085c72a56bc",
   "metadata": {},
   "outputs": [
    {
     "name": "stdout",
     "output_type": "stream",
     "text": [
      "Male      206089\n",
      "Female    175020\n",
      "Name: Gender, dtype: int64\n",
      "1-2 Year     200316\n",
      "< 1 Year     164786\n",
      "> 2 Years     16007\n",
      "Name: Vehicle_Age, dtype: int64\n",
      "Yes    192413\n",
      "No     188696\n",
      "Name: Vehicle_Damage, dtype: int64\n"
     ]
    }
   ],
   "source": [
    "# check for possible nulls in categoricals / non answers \n",
    "for i in df.select_dtypes(include=['object']).columns:\n",
    "    print(df[i].value_counts())"
   ]
  },
  {
   "cell_type": "code",
   "execution_count": 7,
   "id": "4edc9089-4179-49c6-935e-8d6aa7f0d2aa",
   "metadata": {},
   "outputs": [
    {
     "data": {
      "text/plain": [
       "152.0    134784\n",
       "26.0      79700\n",
       "124.0     73995\n",
       "160.0     21779\n",
       "156.0     10661\n",
       "          ...  \n",
       "144.0         1\n",
       "149.0         1\n",
       "84.0          1\n",
       "143.0         1\n",
       "43.0          1\n",
       "Name: Policy_Sales_Channel, Length: 155, dtype: int64"
      ]
     },
     "execution_count": 7,
     "metadata": {},
     "output_type": "execute_result"
    }
   ],
   "source": [
    "#dropping variable for now, but could likely be used to imrove our models with some engineering! \n",
    "df.Policy_Sales_Channel.value_counts()"
   ]
  },
  {
   "cell_type": "code",
   "execution_count": 8,
   "id": "f7f5144a-db49-4363-b961-55f0bb1acbc9",
   "metadata": {},
   "outputs": [],
   "source": [
    "df_trimmed = df.loc[:,['Gender','Age','Driving_License','Previously_Insured','Vehicle_Age','Vehicle_Damage','Annual_Premium','Vintage','Response']]"
   ]
  },
  {
   "cell_type": "code",
   "execution_count": 9,
   "id": "b158afe2-aa01-425c-8f09-e6b2df88ab3d",
   "metadata": {},
   "outputs": [],
   "source": [
    "#drop null values and create dummy variables\n",
    "df_final = pd.get_dummies(df_trimmed).dropna()"
   ]
  },
  {
   "cell_type": "code",
   "execution_count": 10,
   "id": "dabcb40c-ce15-4f61-8d6a-30e11ce4ae5d",
   "metadata": {},
   "outputs": [
    {
     "data": {
      "text/plain": [
       "Index(['Age', 'Driving_License', 'Previously_Insured', 'Annual_Premium',\n",
       "       'Vintage', 'Response', 'Gender_Female', 'Gender_Male',\n",
       "       'Vehicle_Age_1-2 Year', 'Vehicle_Age_< 1 Year', 'Vehicle_Age_> 2 Years',\n",
       "       'Vehicle_Damage_No', 'Vehicle_Damage_Yes'],\n",
       "      dtype='object')"
      ]
     },
     "execution_count": 10,
     "metadata": {},
     "output_type": "execute_result"
    }
   ],
   "source": [
    "df_final.columns"
   ]
  },
  {
   "cell_type": "code",
   "execution_count": 11,
   "id": "dac48456-6a7c-4982-9470-478fe9e768b6",
   "metadata": {},
   "outputs": [
    {
     "data": {
      "text/plain": [
       "0    334399\n",
       "1     46710\n",
       "Name: Response, dtype: int64"
      ]
     },
     "execution_count": 11,
     "metadata": {},
     "output_type": "execute_result"
    }
   ],
   "source": [
    "df_final.Response.value_counts()"
   ]
  },
  {
   "cell_type": "code",
   "execution_count": 12,
   "id": "3dec9dc3-0784-4405-bc44-0a1924fefc80",
   "metadata": {},
   "outputs": [],
   "source": [
    "#Create train test split \n",
    "\n",
    "from sklearn.model_selection import train_test_split\n",
    "X = df_final.drop('Response', axis =1)\n",
    "y = df_final.loc[:,['Response']]\n",
    "\n",
    "X_train, X_test, y_train, y_test = train_test_split(X, y, test_size=0.3, random_state=42)"
   ]
  },
  {
   "cell_type": "code",
   "execution_count": 13,
   "id": "f4b183f4-03b1-4dd3-adf5-541c5b35ed0f",
   "metadata": {},
   "outputs": [
    {
     "data": {
      "text/plain": [
       "'from imblearn.over_sampling import SMOTE \\nsmote = SMOTE(sampling_strategy =1)\\n\\nX_train, y_train = smote.fit_resample(X_train,y_train)'"
      ]
     },
     "execution_count": 13,
     "metadata": {},
     "output_type": "execute_result"
    }
   ],
   "source": [
    "#balance the data (SMOTE) Try this if interested: https://www.kaggle.com/code/kenjee/dealing-with-imbalanced-data-section-10\n",
    "\"\"\"from imblearn.over_sampling import SMOTE \n",
    "smote = SMOTE(sampling_strategy =1)\n",
    "\n",
    "X_train, y_train = smote.fit_resample(X_train,y_train)\"\"\""
   ]
  },
  {
   "cell_type": "markdown",
   "id": "954e86ed-2e4e-461b-bcba-ffe1d3c2918d",
   "metadata": {},
   "source": [
    "# Creating a Basline Model\n",
    "How can we tell if our machine learning models are any good? To evaluate performance, we need to benchmark against something. In this case, we will create two baslines for our model. First, we can simply look at the average of our data for a numeric value. If we were going to predict the age, we could simply guess the average age for every candidate. \n",
    "\n",
    "On the other hand, for a categorical variable, we could simply guess 50/50 or the ratio of the categories in the data. In this case, the conversion data is imbalanced with 46710/ 334399 samples being of the non-stroke cateogry. That means that if we guessed that everyone in the sample didn't have a stroke, we would have a 86.0% success rate. Since this data is slightly imblanaced, this would not be a good baseline for our model.\n",
    "\n",
    "One of the most important steps that we need to take is choosing a good evluation metric. The notebook that covers specific evaluation metrics can be located here: \n",
    "\n",
    "Accuracy does not make sense because of the imbalanced nature of the data. For this example we will use F1 score as our model evaluation metric.\n",
    "\n",
    "- F1 is calculated by 2*((precision*recall)/(precision+recall))\n",
    "\n",
    "- Instead of a simple accuracy calculation which would give us a baseline of 96.1%, F1 score gives us an undefined number since both the precision and recall of a model that only predicted negatives would equal 0. \n",
    "\n",
    "- In this case, we want to use a simple basleline model like Naive Bayes to set our baseline based off of f1 score. You can use most models to create a baseline, but I like Naive bayes because it is quick and doesn't require much parameter tuning. (Full breakdown of Naieve Bayes in or Algorithms Course)"
   ]
  },
  {
   "cell_type": "code",
   "execution_count": 14,
   "id": "5c65c4b5-e209-4b1d-9112-5f75032e1086",
   "metadata": {},
   "outputs": [
    {
     "name": "stdout",
     "output_type": "stream",
     "text": [
      "nb_accuracy: [0.74467535 0.74676413 0.7414113 ]\n",
      "nb F1_Macro Score: [0.40969243 0.41583439 0.41445341]\n",
      "nb_accuracy_avg: 0.7442835922580899  |  lr_f1_avg: 0.4133267459130525\n"
     ]
    }
   ],
   "source": [
    "#import cross validation score\n",
    "from sklearn.model_selection import cross_val_score\n",
    "\n",
    "#import Naive Bayes Classifier \n",
    "from sklearn.naive_bayes import GaussianNB\n",
    "\n",
    "#create classifier object\n",
    "nb = GaussianNB()\n",
    "\n",
    "#run cv for NB classifier\n",
    "from sklearn.metrics import classification_report\n",
    "\n",
    "nb_accuracy = cross_val_score(nb,X_train,y_train.values.ravel(), cv=3, scoring ='accuracy')\n",
    "nb_f1 = cross_val_score(nb,X_train,y_train.values.ravel(), cv=3, scoring ='f1')\n",
    "\n",
    "print('nb_accuracy: ' +str(nb_accuracy))\n",
    "print('nb F1_Macro Score: '+str(nb_f1))\n",
    "print('nb_accuracy_avg: ' + str(nb_accuracy.mean()) +'  |  lr_f1_avg: '+str(nb_f1.mean()))\n",
    "\n",
    "\n",
    "#With these F1 scores, we can begin evaluating our model. While the accuracy is lower than if we only predicted 0 every time,\n",
    "# our f1 score suggests we are doing a far better job of predicting stroke outcomes. "
   ]
  },
  {
   "cell_type": "markdown",
   "id": "946b5637-b883-4a26-aee7-a2732b81c62e",
   "metadata": {},
   "source": [
    "# Model Comparison & Selection \n",
    "After we have a baseline model to compare against, we want to evaluate how other models might perform on the same data. I like to experiment with other basic models with very little paramater tuning to see what performs well. This isn't an exact science and many people may do this step differently. After we set up the models, we can begin experimenting with parameter tuning. I find that model selection and parameter tuning is often an iterative process. For an analysis like this, trying different models, changing parameters, and experimenting with new engineered features is where I find myself spending most of my time working. \n",
    "\n",
    "In this section we will try:\n",
    "- Logistic regression\n",
    "- Decision Tree\n",
    "- K Nearest Neighbors (KNN)"
   ]
  },
  {
   "cell_type": "code",
   "execution_count": null,
   "id": "2c5bfc5c-a906-41a3-b495-e8c08cf30eb3",
   "metadata": {},
   "outputs": [
    {
     "name": "stdout",
     "output_type": "stream",
     "text": [
      "dt_accuracy: [0.82060365 0.82309812 0.82119764]\n",
      "dt F1_Macro Score: [0.27935131 0.27789764 0.27746978]\n",
      "dt_accuracy_avg: 0.8216331342755206  |  dt_f1_avg: 0.2782395764131652\n",
      "\n",
      "lr_accuracy: [0.63564087 0.68287883 0.4755693 ]\n",
      "lr F1_Macro Score: [0.39506357 0.41276915 0.24206472]\n",
      "lr_accuracy_avg: 0.5980296667946023  |  lr_f1_avg: 0.34996581243326824\n",
      "\n"
     ]
    }
   ],
   "source": [
    "#Let's now experiment with a few different basic models \n",
    "\n",
    "## Decision Tree\n",
    "from sklearn.tree import DecisionTreeClassifier\n",
    "dt = DecisionTreeClassifier(random_state =32)\n",
    "\n",
    "dt_accuracy = cross_val_score(dt,X_train,y_train.values.ravel(), cv=3, scoring ='accuracy')\n",
    "dt_f1 = cross_val_score(dt,X_train,y_train.values.ravel(), cv=3, scoring ='f1')\n",
    "\n",
    "print('dt_accuracy: ' +str(dt_accuracy))\n",
    "print('dt F1_Macro Score: '+str(dt_f1))\n",
    "print('dt_accuracy_avg: ' + str(dt_accuracy.mean()) +'  |  dt_f1_avg: '+str(dt_f1.mean())+'\\n')\n",
    "\n",
    "\n",
    "## Logistic Regression\n",
    "from sklearn.linear_model import LogisticRegression\n",
    "lr = LogisticRegression(random_state=32, max_iter = 2000, class_weight = 'balanced')\n",
    "\n",
    "lr_accuracy = cross_val_score(lr,X_train,y_train.values.ravel(), cv=3, scoring ='accuracy')\n",
    "lr_f1 = cross_val_score(lr,X_train,y_train.values.ravel(), cv=3, scoring ='f1')\n",
    "\n",
    "print('lr_accuracy: ' +str(lr_accuracy))\n",
    "print('lr F1_Macro Score: '+str(lr_f1))\n",
    "print('lr_accuracy_avg: ' + str(lr_accuracy.mean()) +'  |  lr_f1_avg: '+str(lr_f1.mean())+'\\n')\n",
    "\n",
    "\n",
    "## KNN \n",
    "from sklearn.neighbors import KNeighborsClassifier\n",
    "from sklearn.preprocessing import StandardScaler\n",
    "from sklearn.pipeline import make_pipeline, Pipeline\n",
    "\n",
    "knn = make_pipeline(StandardScaler(), KNeighborsClassifier(n_neighbors=3))\n",
    "knn_accuracy = cross_val_score(knn,X_train,y_train.values.ravel(), cv=3, scoring ='accuracy')\n",
    "knn_f1 = cross_val_score(knn,X_train,y_train.values.ravel(), cv=3, scoring ='f1')\n",
    "\n",
    "print('knn_accuracy: ' +str(knn_accuracy))\n",
    "print('knn F1_Macro Score: '+str(knn_f1))\n",
    "print('knn_accuracy_avg: ' + str(knn_accuracy.mean()) +'  |  knn_f1_avg: '+str(knn_f1.mean()))\n"
   ]
  },
  {
   "cell_type": "markdown",
   "id": "211756fe-6740-4093-af8e-94f9b97171ac",
   "metadata": {},
   "source": [
    "# Model Comparison \n",
    "It looks like we chose a pretty good baseline. While it slightly underperforms all of our new models in accuracy, it outperforms all of them in F1 score which is what we care about most for this analysis. Let's look at how everything stacks up. \n",
    "\n",
    "|Model          | F1 Score      |\n",
    "| :------------ | :-----------: |\n",
    "| **Baseline Naive Bayes**  | **41.3%**     |\n",
    "| Logistic Regression  | **35.0%**     |\n",
    "| Decision Tree  | **27.6%**     |\n",
    "| K Nearest Neighbors | **24.6%**     |\n",
    "\n",
    "\n",
    "\n",
    "While all of our models outperformed our basline, we still can do better. We can now parameter tune! That means that we make adjustments to the model parameter inputs to better compensate for our specific data. One of the drawbacks of Naive Bayes is that it has virtually no paramaters that we can tune, so our inital results are about the best we will get with it without making changes to our data. "
   ]
  },
  {
   "cell_type": "markdown",
   "id": "d50d31d9-7523-40e5-88e7-1f0f3539759e",
   "metadata": {},
   "source": [
    "# Manual Parameter Tuning\n",
    "Let's try to do some parameter tuning with a few of these models:\n",
    "\n",
    "Let's start with K Nearest Neighbors,which has a few parameters we can adjust, one of them being the number of K. K is how many other datapoints it uses to make its classification. If k= 3 it uses it sees what the samples 3 closest neighbors is and classifies it as the most common one. If k = 5, it uses its 5 closest datapoints. Let's change the number of k and see if that changes our results. "
   ]
  },
  {
   "cell_type": "code",
   "execution_count": null,
   "id": "4e08db79-db44-4118-b34b-e5ce90034461",
   "metadata": {},
   "outputs": [],
   "source": [
    "#Knn Model Comparison \n",
    "\n",
    "#here we will loop through and see which value of k performs the best. \n",
    "\n",
    "for i in range(1,7):\n",
    "    knn = make_pipeline(StandardScaler(), KNeighborsClassifier(n_neighbors=i))\n",
    "    knn_f1 = cross_val_score(knn,X_train,y_train.values.ravel(), cv=3, scoring ='f1')\n",
    "    print('K ='+(str(i)) + (': ') + str(knn_f1.mean()))\n",
    "\n",
    "#What we find is that k=1 is the best estimator for this specific model. We go from 24.6% to 27.6%, a decent improvement! \n",
    "#We also realize that KNN may not be the best approach here because of the imbalanced data. \n",
    "#The larger the K is, the more of the majority class will automatically be included."
   ]
  },
  {
   "cell_type": "markdown",
   "id": "69c24f6c-a1a7-492a-986e-95c075894e93",
   "metadata": {},
   "source": [
    "# Randomized Parameter Tuning\n",
    "Since KNN may not be the best choice, let's explore the deicision tree. Decision trees have a lot more features we can tune. We can tweak the following:\n",
    "- criterion {gini, entropy, log loss}\n",
    "- splitter {best, random}\n",
    "- max depth {int, None}\n",
    "- min_samples_split {int, None}\n",
    "- min_samples_leave {int, None}\n",
    "- min_weight_fraction_leaf {float}\n",
    "- max_features {int, auto, sqrt, log2, None}\n",
    "- max_leaf_nodes {int, None}\n",
    "- min_impurity_decrease {float}\n",
    "- class_weight {dict, balanced, None}\n",
    "- ccp_alpha {float}\n",
    "\n",
    "There are a lot of parameters to tune! If there are just 2 options for each one that would be 2^11, which is 2048 total configurations. In theory, there are infinate numbers of paramater configurations. How do we even get close to finding the best one? \n",
    "\n",
    "The answer here is randomized search. We through in all the parameters that we are interested in searching, and the model will randomly select a subset and return the one that produces the best results. \n",
    "\n",
    "Still, let's manually select a few paramaters we want to evaluate on and then use randomized search:\n",
    "- criterion\n",
    "- split strategy\n",
    "- max depth\n",
    "- min_samples_split\n",
    "- max features"
   ]
  },
  {
   "cell_type": "code",
   "execution_count": null,
   "id": "2d975749-4d63-41c7-a99c-41da3a8494e2",
   "metadata": {},
   "outputs": [],
   "source": [
    "from sklearn.model_selection import RandomizedSearchCV\n",
    "\n",
    "dt = DecisionTreeClassifier(random_state = 42)\n",
    "\n",
    "features = {'criterion': ['gini','entropy'],\n",
    "            'splitter': ['best','random'],\n",
    "           'max_depth': [2,5,10,20,40,None],\n",
    "           'min_samples_split': [2,5,10,15],\n",
    "           'max_features': ['auto','sqrt','log2',None]}\n",
    "\n",
    "rs_dt = RandomizedSearchCV(estimator = dt, param_distributions =features, n_iter =100, cv = 3, random_state = 42, scoring ='f1')\n",
    "\n",
    "rs_dt.fit(X_train,y_train)"
   ]
  },
  {
   "cell_type": "code",
   "execution_count": null,
   "id": "450ba0dd-361e-47f8-b350-569602986a08",
   "metadata": {},
   "outputs": [],
   "source": [
    "print('best stcore = ' + str(rs_dt.best_score_))\n",
    "print('best params = ' + str(rs_dt.best_params_))"
   ]
  },
  {
   "cell_type": "markdown",
   "id": "b57d6bb5-e87c-4c90-bc20-b6419b75af85",
   "metadata": {},
   "source": [
    "# GridsearchCV (Exhaustive Parameter Tuning)\n",
    "With this we have improved our model f1 score from **27.6% to 27.9%**. This is a decent increase! We also narrowed down some of the features that produced good results. We may want to try a more exhaustive search this time. Gridsearch goes through all of the possible combinations within an range and returns the best outcome. \n",
    "\n",
    "This time, let's do an exhaustive search of a smaller number of features and see if we can improve our results even more. "
   ]
  },
  {
   "cell_type": "code",
   "execution_count": null,
   "id": "d226ea90-06f8-46fe-ad9d-67bffa3c029c",
   "metadata": {},
   "outputs": [],
   "source": [
    "from sklearn.model_selection import GridSearchCV\n",
    "\n",
    "\n",
    "features_gs = {'criterion': ['entropy'],\n",
    "            'splitter': ['random'],\n",
    "           'max_depth': np.arange(30,50,1), #getting more precise within range\n",
    "           'min_samples_split': [2,3,4,5,6,7,8,9],\n",
    "           'max_features': [None]}\n",
    "\n",
    "gs_dt = GridSearchCV(estimator = dt, param_grid =features_gs, cv = 3, scoring ='f1') #we don't need random state because there isn't randomization like before\n",
    "\n",
    "gs_dt.fit(X_train,y_train)"
   ]
  },
  {
   "cell_type": "code",
   "execution_count": null,
   "id": "e07a5b49-d7e6-4788-a3fc-5ca94550e1de",
   "metadata": {},
   "outputs": [],
   "source": [
    "print('best stcore = ' + str(gs_dt.best_score_))\n",
    "print('best params = ' + str(gs_dt.best_params_))\n",
    "\n",
    "#looks like we can  do a little better with this gridsearch! "
   ]
  },
  {
   "cell_type": "markdown",
   "id": "75bf3db2-cb56-4c5d-98c5-e73ab159446f",
   "metadata": {},
   "source": [
    "# Bayesian Optimization\n",
    "I wonnder if we can do better than the funnel approach that we took with random search and gridsearch. What if we used a slightly smarter algorithm to help evaluate our features. Maybe we could explore all of the variables from the previous examples and see if our model missed something. This is where Bayesian Optimization comes in. This is an iterative process where our model improves its understandings of the feature inputs as it goes. (Full breakdown in the video portion of the course)\n",
    "\n",
    "Now let's try to use this with a larger feature set on the same classifier. This won't guarantee a better result as it still is not an exahustive search, but in theory it let's us cover ground in a more efficient way. "
   ]
  },
  {
   "cell_type": "code",
   "execution_count": null,
   "id": "9c2fe54b-7f2a-44db-9875-136135347ded",
   "metadata": {},
   "outputs": [],
   "source": [
    "from skopt import BayesSearchCV\n",
    "from sklearn.model_selection import StratifiedKFold"
   ]
  },
  {
   "cell_type": "code",
   "execution_count": null,
   "id": "df4fde3e-6f2b-4a2d-b33c-a05f7a83fddb",
   "metadata": {},
   "outputs": [],
   "source": [
    "\n",
    "from skopt import BayesSearchCV\n",
    "from skopt.space import Real, Categorical, Integer\n",
    "\n",
    "# Choose cross validation method \n",
    "cv = StratifiedKFold(n_splits = 3)\n",
    "\n",
    "\n",
    "bs_lr = BayesSearchCV(\n",
    "    dt,\n",
    "    {'criterion': Categorical(['gini','entropy']),\n",
    "            'splitter': Categorical(['best','random']),\n",
    "           'max_depth': Integer(10,50),\n",
    "           'min_samples_split': Integer(2,15),\n",
    "           'max_features': Categorical(['auto','sqrt','log2',None])},\n",
    "    random_state=42,\n",
    "    n_iter= 100,\n",
    "    cv= cv,\n",
    "    scoring ='f1')\n",
    " \n",
    "bs_lr.fit(X_train,y_train.values.ravel())"
   ]
  },
  {
   "cell_type": "code",
   "execution_count": null,
   "id": "5d8ea99d-ccc8-4c89-b27f-d6713cd992fd",
   "metadata": {},
   "outputs": [],
   "source": [
    "print('best stcore = ' + str(bs_lr.best_score_))\n",
    "print('best params = ' + str(bs_lr.best_params_))\n",
    "\n",
    "#while this didn't outperform our gridsearch, it is still a good approach to try when dealing with many different feature options. \n",
    "#it still did outperform our originial random search."
   ]
  },
  {
   "cell_type": "markdown",
   "id": "13580d22-9ea0-49d3-b698-a6fceadb0885",
   "metadata": {},
   "source": [
    "# Selecting a Model\n",
    "We still haven't been able to do better than our baseline. In most cases, we to tune multiple different models until we reach one that performs the best based on our evaluation criteria. We also want to use other considerations like training time, prediction time, prediction time or interperetability to select selct the best model for our use case. \n",
    "\n",
    "Since we have one tuned model, lets see if we can improve it by combining it with a few of the other models we have used. This process is called ensembling. In the case of classification, we often use a popular vote metric to select the best model. \n",
    "\n",
    "Let's see if an ensemble model of these three classifiers outperforms our baseline model. "
   ]
  },
  {
   "cell_type": "code",
   "execution_count": null,
   "id": "abb21089-80ad-4317-a3c7-418fbff5cd21",
   "metadata": {},
   "outputs": [],
   "source": [
    "from sklearn.ensemble import VotingClassifier\n",
    "\n",
    "dt_voting = DecisionTreeClassifier(**{'criterion': 'entropy', 'max_depth': 44, 'max_features': None, 'min_samples_split': 2, 'splitter': 'random'}) # ** allows you to pass in parameters as dict\n",
    "knn_voting = make_pipeline(StandardScaler(), KNeighborsClassifier(n_neighbors=1))\n",
    "lr_voting = LogisticRegression(random_state=32, max_iter = 2000, class_weight = 'balanced')\n",
    "\n",
    "ens = VotingClassifier(estimators = [('dt', dt_voting), ('knn', knn_voting), ('lr',lr_voting)], voting = 'hard')\n"
   ]
  },
  {
   "cell_type": "code",
   "execution_count": null,
   "id": "4c95548f-c63f-4caf-9218-669edb579720",
   "metadata": {},
   "outputs": [],
   "source": [
    "voting_accuracy = cross_val_score(ens,X_train,y_train.values.ravel(), cv=3, scoring ='accuracy')\n",
    "voting_f1 = cross_val_score(ens,X_train,y_train.values.ravel(), cv=3, scoring ='f1')\n",
    "\n",
    "print('voting_accuracy: ' +str(voting_accuracy))\n",
    "print('voting F1_Macro Score: '+str(voting_f1))\n",
    "print('voting_accuracy_avg: ' + str(voting_accuracy.mean()) +'  |  voting_f1_avg: '+str(voting_f1.mean()))"
   ]
  },
  {
   "cell_type": "code",
   "execution_count": null,
   "id": "1e7cb6e4-b900-4c38-a98b-c47fa88f23e7",
   "metadata": {},
   "outputs": [],
   "source": [
    "ens = VotingClassifier(estimators = [('dt', dt_voting), ('knn', knn_voting), ('lr',lr_voting)], voting = 'soft')\n",
    "voting_accuracy = cross_val_score(ens,X_train,y_train.values.ravel(), cv=3, scoring ='accuracy')\n",
    "voting_f1 = cross_val_score(ens,X_train,y_train.values.ravel(), cv=3, scoring ='f1')\n",
    "\n",
    "print('voting_accuracy: ' +str(voting_accuracy))\n",
    "print('voting F1_Macro Score: '+str(voting_f1))\n",
    "print('voting_accuracy_avg: ' + str(voting_accuracy.mean()) +'  |  voting_f1_avg: '+str(voting_f1.mean()))"
   ]
  },
  {
   "cell_type": "markdown",
   "id": "211fcb8c-1817-4e48-8d37-8e886c7611d1",
   "metadata": {},
   "source": [
    "# Stacked classifier \n",
    "In the case of the voting classifer, we didn't get better performance than our baseline model. Let's now try another type of ensembling called stacking. With stacking, we use the outputs of each of our individual models as features into a new model. In this case, where we have a decision tree, a naive baayes classifier, and a svc classifier, these will be the three features that a new model predicts on. \n",
    "\n",
    "Let's try running these three through a Naive Bayes Classifier and see what the results look like. "
   ]
  },
  {
   "cell_type": "code",
   "execution_count": null,
   "id": "435e348d-7ba0-43e5-8d40-d8f107f19170",
   "metadata": {},
   "outputs": [],
   "source": [
    "from sklearn.ensemble import StackingClassifier\n",
    "\n",
    "ens_stack = StackingClassifier(estimators = [('dt', dt_voting), ('lr',lr_voting), ('nb',GaussianNB())], final_estimator = GaussianNB())"
   ]
  },
  {
   "cell_type": "code",
   "execution_count": null,
   "id": "2bc00575-fc61-44a0-bc63-8a6f62026308",
   "metadata": {},
   "outputs": [],
   "source": [
    "stack_accuracy = cross_val_score(ens_stack,X_train,y_train.values.ravel(), cv=3, scoring ='accuracy')\n",
    "stack_f1 = cross_val_score(ens_stack,X_train,y_train.values.ravel(), cv=3, scoring ='f1')\n",
    "\n",
    "print('stacking_accuracy: ' +str(stack_accuracy))\n",
    "print('stacking F1_Macro Score: '+str(stack_f1))\n",
    "print('stacking_accuracy_avg: ' + str(stack_accuracy.mean()) +'  |  stack_f1_avg: '+str(stack_f1.mean()))\n",
    "\n",
    "#in this case it didn't outperfrom, but it often does."
   ]
  },
  {
   "cell_type": "markdown",
   "id": "f7610d87-71ed-4f44-8776-e9a53af7cbcd",
   "metadata": {},
   "source": [
    "# Ensemble Models\n",
    "The last main type of ensemble approach that we see is one that is designed that way algorithmically. Typically, random forest or gradient boosted models have ensembling built into their implementation. Let's explor random forest and see how this approach works for our data. (We have a breakdown of the main ensembling techniques in our full course on algorithms). These algorithms leverage multiple decision trees to either vote or give pass information on to subsequent models. "
   ]
  },
  {
   "cell_type": "code",
   "execution_count": null,
   "id": "336096b2-9151-4c11-bfa5-7c1819bd1932",
   "metadata": {},
   "outputs": [],
   "source": [
    "from sklearn.ensemble import RandomForestClassifier\n",
    "\n",
    "#first let's try a non-tuned implementation \n",
    "rf = RandomForestClassifier(random_state=42)\n",
    "\n",
    "rf_accuracy = cross_val_score(rf,X_train,y_train.values.ravel(), cv=3, scoring ='accuracy')\n",
    "rf_f1 = cross_val_score(rf,X_train,y_train.values.ravel(), cv=3, scoring ='f1')"
   ]
  },
  {
   "cell_type": "code",
   "execution_count": null,
   "id": "86511174-55a0-4c44-8573-a7823bb67dba",
   "metadata": {},
   "outputs": [],
   "source": [
    "print('rf_accuracy: ' +str(rf_accuracy))\n",
    "print('rf F1_Macro Score: '+str(rf_f1))\n",
    "print('rf_accuracy_avg: ' + str(rf_accuracy.mean()) +'  |  rf_f1_avg: '+str(rf_f1.mean()))\n",
    "\n",
    "#of course, you can tune this model like the others! "
   ]
  },
  {
   "cell_type": "code",
   "execution_count": null,
   "id": "9e376280-4dec-4f00-869c-a7ef569395b1",
   "metadata": {},
   "outputs": [],
   "source": [
    "print([int(x) for x in np.linspace(10, 110, num = 11)]+[None])#.append(None))"
   ]
  },
  {
   "cell_type": "code",
   "execution_count": null,
   "id": "3cb9517e-8915-4a28-bf46-1a9ba02dbb8c",
   "metadata": {},
   "outputs": [],
   "source": [
    "random_grid = {'n_estimators': [int(x) for x in np.linspace(start = 200, stop = 2000, num = 10)],\n",
    "               'max_features': ['auto', 'sqrt'],\n",
    "               'max_depth': [int(x) for x in np.linspace(10, 110, num = 11)]+[None],\n",
    "               'min_samples_split': [2, 5, 10],\n",
    "               'min_samples_leaf': [1, 2, 4],\n",
    "               'bootstrap': [True, False]}\n",
    "rs_rf = RandomizedSearchCV(estimator = rf, param_distributions =random_grid, n_iter =100, cv = 3, random_state = 42, scoring ='f1')\n",
    "\n",
    "rs_rf.fit(X_train,y_train.values.ravel())"
   ]
  },
  {
   "cell_type": "code",
   "execution_count": null,
   "id": "4a16e0ee-b85b-4aa7-81e5-553464df30f2",
   "metadata": {},
   "outputs": [],
   "source": [
    "from sklearn.metrics import f1_score\n",
    "\n",
    "nb.fit(X_train,y_train.values.ravel())\n",
    "ens.fit(X_train,y_train.values.ravel())\n",
    "dt_voting.fit(X_train,y_train.values.ravel())\n",
    "ens_stack.fit(X_train,y_train.values.ravel())\n",
    "rf_est = RandomForestClassifier()\n",
    "rf_est.fit(X_train,y_train.values.ravel())\n",
    "\n",
    "nb_pred = nb.predict(X_test)\n",
    "ens_pred = ens.predict(X_test)\n",
    "dt_pred = dt_voting.predict(X_test)\n",
    "ens_stack_pred = ens_stack.predict(X_test)\n",
    "rf_pred = rf_est.predict(X_test)\n",
    "\n",
    "print('baseline score ' + str(f1_score(y_test,nb_pred)))\n",
    "print('dt score ' + str(f1_score(y_test,dt_pred)))\n",
    "print('voting score ' + str(f1_score(y_test,ens_pred)))\n",
    "print('Stacking score ' + str(f1_score(y_test,ens_stack_pred)))\n",
    "print('rf score ' + str(f1_score(y_test,rf_pred)))"
   ]
  },
  {
   "cell_type": "markdown",
   "id": "e46b5df2-d25d-4efb-84f4-0cfb9139871c",
   "metadata": {},
   "source": [
    "# Summary\n",
    "In this notebook we implemented the following: \n",
    "We will cover:\n",
    "- Baseline creation\n",
    "- Model selection\n",
    "- Parameter tuning\n",
    "     - manual\n",
    "     - gridsearch\n",
    "     - random search\n",
    "     - basian optomization\n",
    "- Ensemble models\n"
   ]
  },
  {
   "cell_type": "markdown",
   "id": "f2d02331-e48a-404b-832a-fbeffc16dbdd",
   "metadata": {},
   "source": [
    "## Additional Resources\n",
    "### Hyperparameter Tuning\n",
    "- [What does \"baseline\" mean in the context of machine learning?](https://datascience.stackexchange.com/questions/30912/what-does-baseline-mean-in-the-context-of-machine-learning)\n",
    "- [Sklearn's Dummy Estimators](https://scikit-learn.org/stable/modules/model_evaluation.html#dummy-estimators)\n",
    "- [7 Hyperparameter Optimization Techniques Every Data Scientist Should Know](https://towardsdatascience.com/7-hyperparameter-optimization-techniques-every-data-scientist-should-know-12cdebe713da)\n",
    "- [A Comprehensive Guide on Hyperparameter Tuning and its Techniques](https://www.analyticsvidhya.com/blog/2022/02/a-comprehensive-guide-on-hyperparameter-tuning-and-its-techniques/)\n",
    "- [Hyperparameter tuning in Python by Tooba Jamal](https://towardsdatascience.com/hyperparameter-tuning-in-python-21a76794a1f7)\n",
    "- [Random Search for Hyper-Parameter Optimization by James Bergestra and Yoshua Bengio](https://www.jmlr.org/papers/volume13/bergstra12a/bergstra12a.pdf)\n",
    "- [A Conceptual Explanation of Bayesian Hyperparameter Optimization for Machine Learning by Will Koehrsen](https://towardsdatascience.com/a-conceptual-explanation-of-bayesian-model-based-hyperparameter-optimization-for-machine-learning-b8172278050f)\n",
    "- [Bayesian Optimization Primer by SigOpt](https://static.sigopt.com/b/20a144d208ef255d3b981ce419667ec25d8412e2/static/pdf/SigOpt_Bayesian_Optimization_Primer.pdf)\n",
    "- [Genetic Algorithms by Marcos Del Cueto](https://towardsdatascience.com/genetic-algorithm-to-optimize-machine-learning-hyperparameters-72bd6e2596fc)\n",
    "- [Simulated Annealing From Scratch in Python by Jason Brownlee](https://machinelearningmastery.com/simulated-annealing-from-scratch-in-python/#:~:text=Simulated%20Annealing-,Simulated%20Annealing%20is%20a%20stochastic%20global%20search%20optimization%20algorithm.,it%20easier%20to%20work%20with.)\n",
    "- [Optimization Techniques — Simulated Annealing by Frank Liang](https://towardsdatascience.com/optimization-techniques-simulated-annealing-d6a4785a1de7)\n",
    "- [Hyperparameter optimization for Neural Networks](http://neupy.com/2016/12/17/hyperparameter_optimization_for_neural_networks.html#id13)\n",
    "\n",
    "### Ensembling\n",
    "- [Ensemble Methods: Elegant Techniques to Produce Improved Machine Learning Results](https://www.toptal.com/machine-learning/ensemble-methods-machine-learning#:~:text=Ensemble%20methods%20are%20techniques%20that,than%20a%20single%20model%20would)\n",
    "- [A Gentle Introduction to Ensemble Learning Algorithms by Jason Brownlee](https://machinelearningmastery.com/tour-of-ensemble-learning-algorithms/#:~:text=The%20three%20main%20classes%20of,on%20your%20predictive%20modeling%20project.)\n",
    "- [Types of Ensemble methods in Machine learning by Anju Tajbangshi](https://towardsdatascience.com/types-of-ensemble-methods-in-machine-learning-4ddaf73879db)\n",
    "- [Introduction to Ensembling/Stacking in Python by Anisotropic](https://www.kaggle.com/code/arthurtok/introduction-to-ensembling-stacking-in-python)\n",
    "- [Ensembles and Model Stacking by Eshaan Kirpal](https://www.kaggle.com/code/eshaan90/ensembles-and-model-stacking/notebook)"
   ]
  },
  {
   "cell_type": "code",
   "execution_count": null,
   "id": "6d619127-52de-4fc6-8df2-560dd6f60128",
   "metadata": {},
   "outputs": [],
   "source": []
  }
 ],
 "metadata": {
  "kernelspec": {
   "display_name": "DL_env",
   "language": "python",
   "name": "dl_env"
  },
  "language_info": {
   "codemirror_mode": {
    "name": "ipython",
    "version": 3
   },
   "file_extension": ".py",
   "mimetype": "text/x-python",
   "name": "python",
   "nbconvert_exporter": "python",
   "pygments_lexer": "ipython3",
   "version": "3.6.3"
  }
 },
 "nbformat": 4,
 "nbformat_minor": 5
}
