{
 "cells": [
  {
   "cell_type": "code",
   "execution_count": 1,
   "id": "e740c3de-8b1c-489c-92f7-4f49743b130d",
   "metadata": {},
   "outputs": [],
   "source": [
    "# This Python 3 environment comes with many helpful analytics libraries installed\n",
    "# It is defined by the kaggle/python Docker image: https://github.com/kaggle/docker-python\n",
    "# For example, here's several helpful packages to load\n",
    "\n",
    "import numpy as np # linear algebra\n",
    "import pandas as pd # data processing, CSV file I/O (e.g. pd.read_csv)\n",
    "import matplotlib.pyplot as plt \n",
    "# Input data files are available in the read-only \"../input/\" directory\n",
    "# For example, running this (by clicking run or pressing Shift+Enter) will list all files under the input directory\n",
    "\n",
    "import os\n",
    "for dirname, _, filenames in os.walk('/kaggle/input'):\n",
    "    for filename in filenames:\n",
    "        print(os.path.join(dirname, filename))\n",
    "\n",
    "# You can write up to 20GB to the current directory (/kaggle/working/) that gets preserved as output when you create a version using \"Save & Run All\" \n",
    "# You can also write temporary files to /kaggle/temp/, but they won't be saved outside of the current session"
   ]
  },
  {
   "cell_type": "markdown",
   "id": "7409093d-619c-4fc2-8f59-e67576388bb5",
   "metadata": {},
   "source": [
    "# Feature Engineering for Continuous Variables \n",
    "In this notebook we will cover scaling, transformations, and interactive features. This notebook is the This is a companion workbook for the 365 Data Science course on ML Process. The in-depth explanantions theories and pros/cons for each of these techniques can be found there. \n",
    "\n",
    "## Feature Scaling\n",
    "Feature scaling is important for we are using models with a distance metric. If our features are of different scales, they can be overcompensated for in the models. \n",
    "- Absolute Max Scaling\n",
    "- MinMax Scaling\n",
    "- Z-Score Normalization (Standard Scaler)\n",
    "- Robust Scaler \n",
    "## Transformations \n",
    "- Logarithmic \n",
    "- Square Root \n",
    "- Exponential\n",
    "- Box-Cox\n",
    "## Interaction Features\n",
    "- Arethmetic Interaction\n",
    "- Binning\n",
    "- Creative Features \n",
    "\n"
   ]
  },
  {
   "cell_type": "markdown",
   "id": "0f47acd2-dd42-4cb1-8093-e0d4d5adaf92",
   "metadata": {},
   "source": [
    "## Load Data\n",
    "\n",
    "Next, we'll need to load our AirBnb dataset. "
   ]
  },
  {
   "cell_type": "markdown",
   "id": "0f8a84d9-671b-4162-b029-6268146e9a6b",
   "metadata": {},
   "source": [
    "https://www.kaggle.com/datasets/sasivirat18/machine-learning-datasets"
   ]
  },
  {
   "cell_type": "code",
   "execution_count": 2,
   "id": "6b37976d-3e53-4d7c-bc5d-c816725dfa1b",
   "metadata": {},
   "outputs": [],
   "source": [
    "df = pd.read_csv(\"vehicles_sample.csv\")"
   ]
  },
  {
   "cell_type": "code",
   "execution_count": 3,
   "id": "69276c81-67a8-4852-9bb9-a724495168c0",
   "metadata": {},
   "outputs": [],
   "source": [
    "#let's add a column for car age that will help us later on: \n",
    "df['car_age'] = df['year'].max() - df['year']"
   ]
  },
  {
   "cell_type": "code",
   "execution_count": 4,
   "id": "ac69a41d-0ceb-49a8-a92d-ab089245f7ff",
   "metadata": {},
   "outputs": [
    {
     "data": {
      "text/plain": [
       "Index(['id', 'url', 'region', 'region_url', 'price', 'year', 'manufacturer',\n",
       "       'model', 'condition', 'cylinders', 'fuel', 'odometer', 'title_status',\n",
       "       'transmission', 'VIN', 'drive', 'size', 'type', 'paint_color',\n",
       "       'image_url', 'description', 'county', 'state', 'lat', 'long',\n",
       "       'posting_date', 'car_age'],\n",
       "      dtype='object')"
      ]
     },
     "execution_count": 4,
     "metadata": {},
     "output_type": "execute_result"
    }
   ],
   "source": [
    "df.columns"
   ]
  },
  {
   "cell_type": "code",
   "execution_count": 5,
   "id": "bfe7c269-26e8-49a0-b1de-257d17d6d506",
   "metadata": {},
   "outputs": [
    {
     "data": {
      "text/html": [
       "<div>\n",
       "<style scoped>\n",
       "    .dataframe tbody tr th:only-of-type {\n",
       "        vertical-align: middle;\n",
       "    }\n",
       "\n",
       "    .dataframe tbody tr th {\n",
       "        vertical-align: top;\n",
       "    }\n",
       "\n",
       "    .dataframe thead th {\n",
       "        text-align: right;\n",
       "    }\n",
       "</style>\n",
       "<table border=\"1\" class=\"dataframe\">\n",
       "  <thead>\n",
       "    <tr style=\"text-align: right;\">\n",
       "      <th></th>\n",
       "      <th>id</th>\n",
       "      <th>price</th>\n",
       "      <th>year</th>\n",
       "      <th>odometer</th>\n",
       "      <th>county</th>\n",
       "      <th>lat</th>\n",
       "      <th>long</th>\n",
       "      <th>car_age</th>\n",
       "    </tr>\n",
       "  </thead>\n",
       "  <tbody>\n",
       "    <tr>\n",
       "      <th>count</th>\n",
       "      <td>2.000000e+04</td>\n",
       "      <td>2.000000e+04</td>\n",
       "      <td>19951.000000</td>\n",
       "      <td>1.981400e+04</td>\n",
       "      <td>0.0</td>\n",
       "      <td>19702.000000</td>\n",
       "      <td>19702.000000</td>\n",
       "      <td>19951.000000</td>\n",
       "    </tr>\n",
       "    <tr>\n",
       "      <th>mean</th>\n",
       "      <td>7.311462e+09</td>\n",
       "      <td>1.761475e+04</td>\n",
       "      <td>2011.217282</td>\n",
       "      <td>9.865501e+04</td>\n",
       "      <td>NaN</td>\n",
       "      <td>38.483050</td>\n",
       "      <td>-94.647057</td>\n",
       "      <td>10.782718</td>\n",
       "    </tr>\n",
       "    <tr>\n",
       "      <th>std</th>\n",
       "      <td>4.484711e+06</td>\n",
       "      <td>1.998158e+04</td>\n",
       "      <td>9.575279</td>\n",
       "      <td>2.363314e+05</td>\n",
       "      <td>NaN</td>\n",
       "      <td>5.889468</td>\n",
       "      <td>18.358730</td>\n",
       "      <td>9.575279</td>\n",
       "    </tr>\n",
       "    <tr>\n",
       "      <th>min</th>\n",
       "      <td>7.217189e+09</td>\n",
       "      <td>0.000000e+00</td>\n",
       "      <td>1900.000000</td>\n",
       "      <td>0.000000e+00</td>\n",
       "      <td>NaN</td>\n",
       "      <td>-56.527029</td>\n",
       "      <td>-159.365530</td>\n",
       "      <td>0.000000</td>\n",
       "    </tr>\n",
       "    <tr>\n",
       "      <th>25%</th>\n",
       "      <td>7.308054e+09</td>\n",
       "      <td>5.950000e+03</td>\n",
       "      <td>2008.000000</td>\n",
       "      <td>3.747300e+04</td>\n",
       "      <td>NaN</td>\n",
       "      <td>34.610000</td>\n",
       "      <td>-111.937599</td>\n",
       "      <td>5.000000</td>\n",
       "    </tr>\n",
       "    <tr>\n",
       "      <th>50%</th>\n",
       "      <td>7.312474e+09</td>\n",
       "      <td>1.385000e+04</td>\n",
       "      <td>2014.000000</td>\n",
       "      <td>8.400000e+04</td>\n",
       "      <td>NaN</td>\n",
       "      <td>39.140834</td>\n",
       "      <td>-88.230050</td>\n",
       "      <td>8.000000</td>\n",
       "    </tr>\n",
       "    <tr>\n",
       "      <th>75%</th>\n",
       "      <td>7.315259e+09</td>\n",
       "      <td>2.659000e+04</td>\n",
       "      <td>2017.000000</td>\n",
       "      <td>1.323340e+05</td>\n",
       "      <td>NaN</td>\n",
       "      <td>42.370000</td>\n",
       "      <td>-80.705055</td>\n",
       "      <td>14.000000</td>\n",
       "    </tr>\n",
       "    <tr>\n",
       "      <th>max</th>\n",
       "      <td>7.317096e+09</td>\n",
       "      <td>1.234567e+06</td>\n",
       "      <td>2022.000000</td>\n",
       "      <td>1.000000e+07</td>\n",
       "      <td>NaN</td>\n",
       "      <td>64.878089</td>\n",
       "      <td>94.163200</td>\n",
       "      <td>122.000000</td>\n",
       "    </tr>\n",
       "  </tbody>\n",
       "</table>\n",
       "</div>"
      ],
      "text/plain": [
       "                 id         price          year      odometer  county  \\\n",
       "count  2.000000e+04  2.000000e+04  19951.000000  1.981400e+04     0.0   \n",
       "mean   7.311462e+09  1.761475e+04   2011.217282  9.865501e+04     NaN   \n",
       "std    4.484711e+06  1.998158e+04      9.575279  2.363314e+05     NaN   \n",
       "min    7.217189e+09  0.000000e+00   1900.000000  0.000000e+00     NaN   \n",
       "25%    7.308054e+09  5.950000e+03   2008.000000  3.747300e+04     NaN   \n",
       "50%    7.312474e+09  1.385000e+04   2014.000000  8.400000e+04     NaN   \n",
       "75%    7.315259e+09  2.659000e+04   2017.000000  1.323340e+05     NaN   \n",
       "max    7.317096e+09  1.234567e+06   2022.000000  1.000000e+07     NaN   \n",
       "\n",
       "                lat          long       car_age  \n",
       "count  19702.000000  19702.000000  19951.000000  \n",
       "mean      38.483050    -94.647057     10.782718  \n",
       "std        5.889468     18.358730      9.575279  \n",
       "min      -56.527029   -159.365530      0.000000  \n",
       "25%       34.610000   -111.937599      5.000000  \n",
       "50%       39.140834    -88.230050      8.000000  \n",
       "75%       42.370000    -80.705055     14.000000  \n",
       "max       64.878089     94.163200    122.000000  "
      ]
     },
     "execution_count": 5,
     "metadata": {},
     "output_type": "execute_result"
    }
   ],
   "source": [
    "df.describe()\n",
    "# Columns we may want to normalize \n",
    "# Price, Year, Odometer"
   ]
  },
  {
   "cell_type": "code",
   "execution_count": 6,
   "id": "a43395a4-70d7-403e-b46f-7db7023bfdfb",
   "metadata": {},
   "outputs": [],
   "source": [
    "#let's just use a few features to create an example model and remove Nulls. Learn mnore about different imputation techniques in this other companion notebook. \n",
    "#pd.get_dummie() creates dummy variables for the categorical features (see this notebook for more on that)\n",
    "df_example = pd.get_dummies(df.loc[:,['price','car_age','odometer','manufacturer','condition']].dropna())\n"
   ]
  },
  {
   "cell_type": "code",
   "execution_count": 7,
   "id": "53c9ea37-0864-4cd6-b331-0d8c65f2a4b4",
   "metadata": {},
   "outputs": [],
   "source": [
    "from sklearn.model_selection import train_test_split\n",
    "\n",
    "X = df_example.drop('price',axis =1 )\n",
    "y = df_example[['price']]\n",
    "\n",
    "X_train, X_test, y_train, y_test = train_test_split(X, y, test_size=0.2, random_state=42)"
   ]
  },
  {
   "cell_type": "code",
   "execution_count": 8,
   "id": "124bd474-0534-483f-a4a8-a3221c3b935d",
   "metadata": {},
   "outputs": [
    {
     "data": {
      "text/plain": [
       "<AxesSubplot:>"
      ]
     },
     "execution_count": 8,
     "metadata": {},
     "output_type": "execute_result"
    },
    {
     "data": {
      "image/png": "[encoded data removed]",
      "text/plain": [
       "<Figure size 432x288 with 1 Axes>"
      ]
     },
     "metadata": {
      "needs_background": "light"
     },
     "output_type": "display_data"
    }
   ],
   "source": [
    "df.price.plot.box()"
   ]
  },
  {
   "cell_type": "code",
   "execution_count": 9,
   "id": "07b2d140-8fe9-4e15-8101-95d0cd20a35b",
   "metadata": {},
   "outputs": [
    {
     "data": {
      "text/plain": [
       "<AxesSubplot:>"
      ]
     },
     "execution_count": 9,
     "metadata": {},
     "output_type": "execute_result"
    },
    {
     "data": {
      "image/png": "[encoded data removed]",
      "text/plain": [
       "<Figure size 432x288 with 1 Axes>"
      ]
     },
     "metadata": {
      "needs_background": "light"
     },
     "output_type": "display_data"
    }
   ],
   "source": [
    "#df.price.plot.box()\n",
    "df.car_age.plot.box()\n",
    "#df.odometer.plot.box()"
   ]
  },
  {
   "cell_type": "code",
   "execution_count": 10,
   "id": "9264279f-538c-4625-9615-ce51206d50d0",
   "metadata": {},
   "outputs": [
    {
     "data": {
      "text/plain": [
       "<AxesSubplot:>"
      ]
     },
     "execution_count": 10,
     "metadata": {},
     "output_type": "execute_result"
    },
    {
     "data": {
      "image/png": "[encoded data removed]",
      "text/plain": [
       "<Figure size 432x288 with 1 Axes>"
      ]
     },
     "metadata": {
      "needs_background": "light"
     },
     "output_type": "display_data"
    }
   ],
   "source": [
    "df.odometer.plot.box()"
   ]
  },
  {
   "cell_type": "markdown",
   "id": "d2a5a71d-ed04-46e4-bbcb-216ffd97e2eb",
   "metadata": {},
   "source": [
    "# Feature Scaling\n",
    "Feature scaling is important for we are using models with a distance metric. If our features are of different scales, they can be overcompensated for in the models. \n",
    "- Absolute Max Scaling\n",
    "- MinMax Scaling\n",
    "- Z-Score Normalization (Standard Scaler)\n",
    "- Robust Scaler \n"
   ]
  },
  {
   "cell_type": "markdown",
   "id": "c1727cca-a06a-4dc1-b6bf-fb9c4a0b5bed",
   "metadata": {},
   "source": [
    "## Absolute Maximum Scaling\n",
    "Absolute maximum scaling will have you take the maximum value within the data and then divide the raw data by this absolute maximum value.\n",
    "\n",
    "For absolute max scaling, this works best if our data doesn't have massive outliers. In this case, we would likely want to remove outliers from price and odometer. This also keeps the same distribution of the data. For absolute maximum scaling, let's do this on the year data for the cars. "
   ]
  },
  {
   "cell_type": "code",
   "execution_count": 11,
   "id": "48268099-8c0c-4946-ac81-29fc380d9bab",
   "metadata": {},
   "outputs": [],
   "source": [
    "from sklearn.preprocessing import MaxAbsScaler\n",
    "\n",
    "#Scale data \n",
    "df_am = MaxAbsScaler().fit_transform(X_train)\n",
    "\n",
    "#convert to dataframe to see table\n",
    "df_am = pd.DataFrame(df_am, columns = X_train.columns)\n",
    "\n",
    "#obvious problems with outliers regarding price & odometer "
   ]
  },
  {
   "cell_type": "markdown",
   "id": "1be85417-7590-4036-a8f4-f9c2a61c396a",
   "metadata": {},
   "source": [
    "# Min Max Scaling\n",
    "Another simple form of scaling is called min max. Min Max scaling will scale all our data points between 0 and 1. We’d use the following formula to scale our data, where we subtract the min from the raw data and then divide it by the max minus the min. \n",
    "\n",
    "Again, this approach is not robust to outliers."
   ]
  },
  {
   "cell_type": "code",
   "execution_count": 12,
   "id": "f394ca2b-5cf6-45b9-8c3f-62b84ebdbe28",
   "metadata": {},
   "outputs": [],
   "source": [
    "from sklearn.preprocessing import MinMaxScaler\n",
    "df_min_max = MinMaxScaler().fit_transform(X_train)\n",
    "df_min_max = pd.DataFrame(df_min_max, columns = X_train.columns)"
   ]
  },
  {
   "cell_type": "code",
   "execution_count": null,
   "id": "e7086a32-d5eb-45dc-ad5b-a6f6dad67393",
   "metadata": {},
   "outputs": [],
   "source": []
  },
  {
   "cell_type": "markdown",
   "id": "e5dfae21-b870-4a61-933e-0219b5b3817f",
   "metadata": {},
   "source": [
    "# Z Score Normalization (Standard Scaling)\n",
    "\n",
    "Another approach is standardization which transforms the data into the z-score, where the mean is zero and the standard deviation is 1.\n",
    "\n",
    "This approach is more robust to outliers, but still can have issues if outliers cause massive changes to standard deviation. However, this does assume a normal distribution which is inaccurate for some of our data (Year)."
   ]
  },
  {
   "cell_type": "code",
   "execution_count": 13,
   "id": "1648e06e-e17a-4e15-9951-dcf392afd5e2",
   "metadata": {},
   "outputs": [
    {
     "data": {
      "text/html": [
       "<div>\n",
       "<style scoped>\n",
       "    .dataframe tbody tr th:only-of-type {\n",
       "        vertical-align: middle;\n",
       "    }\n",
       "\n",
       "    .dataframe tbody tr th {\n",
       "        vertical-align: top;\n",
       "    }\n",
       "\n",
       "    .dataframe thead th {\n",
       "        text-align: right;\n",
       "    }\n",
       "</style>\n",
       "<table border=\"1\" class=\"dataframe\">\n",
       "  <thead>\n",
       "    <tr style=\"text-align: right;\">\n",
       "      <th></th>\n",
       "      <th>car_age</th>\n",
       "      <th>odometer</th>\n",
       "      <th>manufacturer_acura</th>\n",
       "      <th>manufacturer_alfa-romeo</th>\n",
       "      <th>manufacturer_aston-martin</th>\n",
       "      <th>manufacturer_audi</th>\n",
       "      <th>manufacturer_bmw</th>\n",
       "      <th>manufacturer_buick</th>\n",
       "      <th>manufacturer_cadillac</th>\n",
       "      <th>manufacturer_chevrolet</th>\n",
       "      <th>...</th>\n",
       "      <th>manufacturer_tesla</th>\n",
       "      <th>manufacturer_toyota</th>\n",
       "      <th>manufacturer_volkswagen</th>\n",
       "      <th>manufacturer_volvo</th>\n",
       "      <th>condition_excellent</th>\n",
       "      <th>condition_fair</th>\n",
       "      <th>condition_good</th>\n",
       "      <th>condition_like new</th>\n",
       "      <th>condition_new</th>\n",
       "      <th>condition_salvage</th>\n",
       "    </tr>\n",
       "  </thead>\n",
       "  <tbody>\n",
       "    <tr>\n",
       "      <th>19957</th>\n",
       "      <td>-0.811799</td>\n",
       "      <td>-0.117860</td>\n",
       "      <td>0</td>\n",
       "      <td>0</td>\n",
       "      <td>0</td>\n",
       "      <td>0</td>\n",
       "      <td>0</td>\n",
       "      <td>0</td>\n",
       "      <td>0</td>\n",
       "      <td>0</td>\n",
       "      <td>...</td>\n",
       "      <td>0</td>\n",
       "      <td>0</td>\n",
       "      <td>0</td>\n",
       "      <td>0</td>\n",
       "      <td>0</td>\n",
       "      <td>0</td>\n",
       "      <td>1</td>\n",
       "      <td>0</td>\n",
       "      <td>0</td>\n",
       "      <td>0</td>\n",
       "    </tr>\n",
       "    <tr>\n",
       "      <th>5329</th>\n",
       "      <td>-0.004209</td>\n",
       "      <td>-0.280691</td>\n",
       "      <td>0</td>\n",
       "      <td>0</td>\n",
       "      <td>0</td>\n",
       "      <td>0</td>\n",
       "      <td>0</td>\n",
       "      <td>0</td>\n",
       "      <td>0</td>\n",
       "      <td>0</td>\n",
       "      <td>...</td>\n",
       "      <td>0</td>\n",
       "      <td>0</td>\n",
       "      <td>0</td>\n",
       "      <td>0</td>\n",
       "      <td>1</td>\n",
       "      <td>0</td>\n",
       "      <td>0</td>\n",
       "      <td>0</td>\n",
       "      <td>0</td>\n",
       "      <td>0</td>\n",
       "    </tr>\n",
       "    <tr>\n",
       "      <th>10075</th>\n",
       "      <td>-0.912748</td>\n",
       "      <td>-0.340444</td>\n",
       "      <td>0</td>\n",
       "      <td>0</td>\n",
       "      <td>0</td>\n",
       "      <td>0</td>\n",
       "      <td>0</td>\n",
       "      <td>0</td>\n",
       "      <td>0</td>\n",
       "      <td>0</td>\n",
       "      <td>...</td>\n",
       "      <td>0</td>\n",
       "      <td>0</td>\n",
       "      <td>0</td>\n",
       "      <td>0</td>\n",
       "      <td>0</td>\n",
       "      <td>0</td>\n",
       "      <td>1</td>\n",
       "      <td>0</td>\n",
       "      <td>0</td>\n",
       "      <td>0</td>\n",
       "    </tr>\n",
       "    <tr>\n",
       "      <th>6175</th>\n",
       "      <td>0.803380</td>\n",
       "      <td>0.161998</td>\n",
       "      <td>0</td>\n",
       "      <td>0</td>\n",
       "      <td>0</td>\n",
       "      <td>0</td>\n",
       "      <td>0</td>\n",
       "      <td>0</td>\n",
       "      <td>0</td>\n",
       "      <td>0</td>\n",
       "      <td>...</td>\n",
       "      <td>0</td>\n",
       "      <td>0</td>\n",
       "      <td>0</td>\n",
       "      <td>0</td>\n",
       "      <td>1</td>\n",
       "      <td>0</td>\n",
       "      <td>0</td>\n",
       "      <td>0</td>\n",
       "      <td>0</td>\n",
       "      <td>0</td>\n",
       "    </tr>\n",
       "    <tr>\n",
       "      <th>270</th>\n",
       "      <td>-0.105158</td>\n",
       "      <td>0.167637</td>\n",
       "      <td>0</td>\n",
       "      <td>0</td>\n",
       "      <td>0</td>\n",
       "      <td>0</td>\n",
       "      <td>0</td>\n",
       "      <td>0</td>\n",
       "      <td>0</td>\n",
       "      <td>0</td>\n",
       "      <td>...</td>\n",
       "      <td>0</td>\n",
       "      <td>0</td>\n",
       "      <td>0</td>\n",
       "      <td>0</td>\n",
       "      <td>1</td>\n",
       "      <td>0</td>\n",
       "      <td>0</td>\n",
       "      <td>0</td>\n",
       "      <td>0</td>\n",
       "      <td>0</td>\n",
       "    </tr>\n",
       "    <tr>\n",
       "      <th>...</th>\n",
       "      <td>...</td>\n",
       "      <td>...</td>\n",
       "      <td>...</td>\n",
       "      <td>...</td>\n",
       "      <td>...</td>\n",
       "      <td>...</td>\n",
       "      <td>...</td>\n",
       "      <td>...</td>\n",
       "      <td>...</td>\n",
       "      <td>...</td>\n",
       "      <td>...</td>\n",
       "      <td>...</td>\n",
       "      <td>...</td>\n",
       "      <td>...</td>\n",
       "      <td>...</td>\n",
       "      <td>...</td>\n",
       "      <td>...</td>\n",
       "      <td>...</td>\n",
       "      <td>...</td>\n",
       "      <td>...</td>\n",
       "      <td>...</td>\n",
       "    </tr>\n",
       "    <tr>\n",
       "      <th>19864</th>\n",
       "      <td>0.197688</td>\n",
       "      <td>0.109031</td>\n",
       "      <td>0</td>\n",
       "      <td>0</td>\n",
       "      <td>0</td>\n",
       "      <td>0</td>\n",
       "      <td>0</td>\n",
       "      <td>0</td>\n",
       "      <td>0</td>\n",
       "      <td>0</td>\n",
       "      <td>...</td>\n",
       "      <td>0</td>\n",
       "      <td>0</td>\n",
       "      <td>0</td>\n",
       "      <td>0</td>\n",
       "      <td>1</td>\n",
       "      <td>0</td>\n",
       "      <td>0</td>\n",
       "      <td>0</td>\n",
       "      <td>0</td>\n",
       "      <td>0</td>\n",
       "    </tr>\n",
       "    <tr>\n",
       "      <th>9118</th>\n",
       "      <td>0.096739</td>\n",
       "      <td>-0.081562</td>\n",
       "      <td>0</td>\n",
       "      <td>0</td>\n",
       "      <td>0</td>\n",
       "      <td>0</td>\n",
       "      <td>0</td>\n",
       "      <td>0</td>\n",
       "      <td>0</td>\n",
       "      <td>0</td>\n",
       "      <td>...</td>\n",
       "      <td>0</td>\n",
       "      <td>0</td>\n",
       "      <td>0</td>\n",
       "      <td>0</td>\n",
       "      <td>0</td>\n",
       "      <td>0</td>\n",
       "      <td>1</td>\n",
       "      <td>0</td>\n",
       "      <td>0</td>\n",
       "      <td>0</td>\n",
       "    </tr>\n",
       "    <tr>\n",
       "      <th>9457</th>\n",
       "      <td>-1.013696</td>\n",
       "      <td>-0.388720</td>\n",
       "      <td>0</td>\n",
       "      <td>0</td>\n",
       "      <td>0</td>\n",
       "      <td>0</td>\n",
       "      <td>0</td>\n",
       "      <td>0</td>\n",
       "      <td>0</td>\n",
       "      <td>0</td>\n",
       "      <td>...</td>\n",
       "      <td>0</td>\n",
       "      <td>0</td>\n",
       "      <td>0</td>\n",
       "      <td>0</td>\n",
       "      <td>0</td>\n",
       "      <td>0</td>\n",
       "      <td>0</td>\n",
       "      <td>1</td>\n",
       "      <td>0</td>\n",
       "      <td>0</td>\n",
       "    </tr>\n",
       "    <tr>\n",
       "      <th>1536</th>\n",
       "      <td>-0.105158</td>\n",
       "      <td>-0.069475</td>\n",
       "      <td>0</td>\n",
       "      <td>0</td>\n",
       "      <td>0</td>\n",
       "      <td>0</td>\n",
       "      <td>0</td>\n",
       "      <td>0</td>\n",
       "      <td>0</td>\n",
       "      <td>0</td>\n",
       "      <td>...</td>\n",
       "      <td>0</td>\n",
       "      <td>0</td>\n",
       "      <td>0</td>\n",
       "      <td>0</td>\n",
       "      <td>1</td>\n",
       "      <td>0</td>\n",
       "      <td>0</td>\n",
       "      <td>0</td>\n",
       "      <td>0</td>\n",
       "      <td>0</td>\n",
       "    </tr>\n",
       "    <tr>\n",
       "      <th>12741</th>\n",
       "      <td>-0.912748</td>\n",
       "      <td>-0.339150</td>\n",
       "      <td>0</td>\n",
       "      <td>0</td>\n",
       "      <td>0</td>\n",
       "      <td>0</td>\n",
       "      <td>0</td>\n",
       "      <td>0</td>\n",
       "      <td>0</td>\n",
       "      <td>1</td>\n",
       "      <td>...</td>\n",
       "      <td>0</td>\n",
       "      <td>0</td>\n",
       "      <td>0</td>\n",
       "      <td>0</td>\n",
       "      <td>0</td>\n",
       "      <td>0</td>\n",
       "      <td>1</td>\n",
       "      <td>0</td>\n",
       "      <td>0</td>\n",
       "      <td>0</td>\n",
       "    </tr>\n",
       "  </tbody>\n",
       "</table>\n",
       "<p>9089 rows × 48 columns</p>\n",
       "</div>"
      ],
      "text/plain": [
       "        car_age  odometer  manufacturer_acura  manufacturer_alfa-romeo  \\\n",
       "19957 -0.811799 -0.117860                   0                        0   \n",
       "5329  -0.004209 -0.280691                   0                        0   \n",
       "10075 -0.912748 -0.340444                   0                        0   \n",
       "6175   0.803380  0.161998                   0                        0   \n",
       "270   -0.105158  0.167637                   0                        0   \n",
       "...         ...       ...                 ...                      ...   \n",
       "19864  0.197688  0.109031                   0                        0   \n",
       "9118   0.096739 -0.081562                   0                        0   \n",
       "9457  -1.013696 -0.388720                   0                        0   \n",
       "1536  -0.105158 -0.069475                   0                        0   \n",
       "12741 -0.912748 -0.339150                   0                        0   \n",
       "\n",
       "       manufacturer_aston-martin  manufacturer_audi  manufacturer_bmw  \\\n",
       "19957                          0                  0                 0   \n",
       "5329                           0                  0                 0   \n",
       "10075                          0                  0                 0   \n",
       "6175                           0                  0                 0   \n",
       "270                            0                  0                 0   \n",
       "...                          ...                ...               ...   \n",
       "19864                          0                  0                 0   \n",
       "9118                           0                  0                 0   \n",
       "9457                           0                  0                 0   \n",
       "1536                           0                  0                 0   \n",
       "12741                          0                  0                 0   \n",
       "\n",
       "       manufacturer_buick  manufacturer_cadillac  manufacturer_chevrolet  ...  \\\n",
       "19957                   0                      0                       0  ...   \n",
       "5329                    0                      0                       0  ...   \n",
       "10075                   0                      0                       0  ...   \n",
       "6175                    0                      0                       0  ...   \n",
       "270                     0                      0                       0  ...   \n",
       "...                   ...                    ...                     ...  ...   \n",
       "19864                   0                      0                       0  ...   \n",
       "9118                    0                      0                       0  ...   \n",
       "9457                    0                      0                       0  ...   \n",
       "1536                    0                      0                       0  ...   \n",
       "12741                   0                      0                       1  ...   \n",
       "\n",
       "       manufacturer_tesla  manufacturer_toyota  manufacturer_volkswagen  \\\n",
       "19957                   0                    0                        0   \n",
       "5329                    0                    0                        0   \n",
       "10075                   0                    0                        0   \n",
       "6175                    0                    0                        0   \n",
       "270                     0                    0                        0   \n",
       "...                   ...                  ...                      ...   \n",
       "19864                   0                    0                        0   \n",
       "9118                    0                    0                        0   \n",
       "9457                    0                    0                        0   \n",
       "1536                    0                    0                        0   \n",
       "12741                   0                    0                        0   \n",
       "\n",
       "       manufacturer_volvo  condition_excellent  condition_fair  \\\n",
       "19957                   0                    0               0   \n",
       "5329                    0                    1               0   \n",
       "10075                   0                    0               0   \n",
       "6175                    0                    1               0   \n",
       "270                     0                    1               0   \n",
       "...                   ...                  ...             ...   \n",
       "19864                   0                    1               0   \n",
       "9118                    0                    0               0   \n",
       "9457                    0                    0               0   \n",
       "1536                    0                    1               0   \n",
       "12741                   0                    0               0   \n",
       "\n",
       "       condition_good  condition_like new  condition_new  condition_salvage  \n",
       "19957               1                   0              0                  0  \n",
       "5329                0                   0              0                  0  \n",
       "10075               1                   0              0                  0  \n",
       "6175                0                   0              0                  0  \n",
       "270                 0                   0              0                  0  \n",
       "...               ...                 ...            ...                ...  \n",
       "19864               0                   0              0                  0  \n",
       "9118                1                   0              0                  0  \n",
       "9457                0                   1              0                  0  \n",
       "1536                0                   0              0                  0  \n",
       "12741               1                   0              0                  0  \n",
       "\n",
       "[9089 rows x 48 columns]"
      ]
     },
     "execution_count": 13,
     "metadata": {},
     "output_type": "execute_result"
    }
   ],
   "source": [
    "from sklearn.preprocessing import StandardScaler\n",
    "df_std = X_train.copy()\n",
    "#only scale numeric varaibles in this case rather than the dummy variables for categories \n",
    "df_std.loc[:,['car_age','odometer']] = StandardScaler().fit_transform(df_std.loc[:, ['car_age','odometer']])\n",
    "df_std"
   ]
  },
  {
   "cell_type": "markdown",
   "id": "dc2f38b5-a5db-4ebd-9332-842d2d970163",
   "metadata": {},
   "source": [
    "# Robust Scaler\n",
    "With Robust Scaler, we’re subtracting the median and then scaling the column by the IQR.\n",
    "\n",
    "This is the approach most robust to outliers that we will cover."
   ]
  },
  {
   "cell_type": "code",
   "execution_count": 14,
   "id": "7e060533-38e7-4077-a64b-4809653f6b5d",
   "metadata": {},
   "outputs": [
    {
     "data": {
      "text/html": [
       "<div>\n",
       "<style scoped>\n",
       "    .dataframe tbody tr th:only-of-type {\n",
       "        vertical-align: middle;\n",
       "    }\n",
       "\n",
       "    .dataframe tbody tr th {\n",
       "        vertical-align: top;\n",
       "    }\n",
       "\n",
       "    .dataframe thead th {\n",
       "        text-align: right;\n",
       "    }\n",
       "</style>\n",
       "<table border=\"1\" class=\"dataframe\">\n",
       "  <thead>\n",
       "    <tr style=\"text-align: right;\">\n",
       "      <th></th>\n",
       "      <th>car_age</th>\n",
       "      <th>odometer</th>\n",
       "      <th>manufacturer_acura</th>\n",
       "      <th>manufacturer_alfa-romeo</th>\n",
       "      <th>manufacturer_aston-martin</th>\n",
       "      <th>manufacturer_audi</th>\n",
       "      <th>manufacturer_bmw</th>\n",
       "      <th>manufacturer_buick</th>\n",
       "      <th>manufacturer_cadillac</th>\n",
       "      <th>manufacturer_chevrolet</th>\n",
       "      <th>...</th>\n",
       "      <th>manufacturer_tesla</th>\n",
       "      <th>manufacturer_toyota</th>\n",
       "      <th>manufacturer_volkswagen</th>\n",
       "      <th>manufacturer_volvo</th>\n",
       "      <th>condition_excellent</th>\n",
       "      <th>condition_fair</th>\n",
       "      <th>condition_good</th>\n",
       "      <th>condition_like new</th>\n",
       "      <th>condition_new</th>\n",
       "      <th>condition_salvage</th>\n",
       "    </tr>\n",
       "  </thead>\n",
       "  <tbody>\n",
       "    <tr>\n",
       "      <th>19957</th>\n",
       "      <td>-0.666667</td>\n",
       "      <td>-0.136240</td>\n",
       "      <td>0</td>\n",
       "      <td>0</td>\n",
       "      <td>0</td>\n",
       "      <td>0</td>\n",
       "      <td>0</td>\n",
       "      <td>0</td>\n",
       "      <td>0</td>\n",
       "      <td>0</td>\n",
       "      <td>...</td>\n",
       "      <td>0</td>\n",
       "      <td>0</td>\n",
       "      <td>0</td>\n",
       "      <td>0</td>\n",
       "      <td>0</td>\n",
       "      <td>0</td>\n",
       "      <td>1</td>\n",
       "      <td>0</td>\n",
       "      <td>0</td>\n",
       "      <td>0</td>\n",
       "    </tr>\n",
       "    <tr>\n",
       "      <th>5329</th>\n",
       "      <td>0.222222</td>\n",
       "      <td>-0.533440</td>\n",
       "      <td>0</td>\n",
       "      <td>0</td>\n",
       "      <td>0</td>\n",
       "      <td>0</td>\n",
       "      <td>0</td>\n",
       "      <td>0</td>\n",
       "      <td>0</td>\n",
       "      <td>0</td>\n",
       "      <td>...</td>\n",
       "      <td>0</td>\n",
       "      <td>0</td>\n",
       "      <td>0</td>\n",
       "      <td>0</td>\n",
       "      <td>1</td>\n",
       "      <td>0</td>\n",
       "      <td>0</td>\n",
       "      <td>0</td>\n",
       "      <td>0</td>\n",
       "      <td>0</td>\n",
       "    </tr>\n",
       "    <tr>\n",
       "      <th>10075</th>\n",
       "      <td>-0.777778</td>\n",
       "      <td>-0.679198</td>\n",
       "      <td>0</td>\n",
       "      <td>0</td>\n",
       "      <td>0</td>\n",
       "      <td>0</td>\n",
       "      <td>0</td>\n",
       "      <td>0</td>\n",
       "      <td>0</td>\n",
       "      <td>0</td>\n",
       "      <td>...</td>\n",
       "      <td>0</td>\n",
       "      <td>0</td>\n",
       "      <td>0</td>\n",
       "      <td>0</td>\n",
       "      <td>0</td>\n",
       "      <td>0</td>\n",
       "      <td>1</td>\n",
       "      <td>0</td>\n",
       "      <td>0</td>\n",
       "      <td>0</td>\n",
       "    </tr>\n",
       "    <tr>\n",
       "      <th>6175</th>\n",
       "      <td>1.111111</td>\n",
       "      <td>0.546431</td>\n",
       "      <td>0</td>\n",
       "      <td>0</td>\n",
       "      <td>0</td>\n",
       "      <td>0</td>\n",
       "      <td>0</td>\n",
       "      <td>0</td>\n",
       "      <td>0</td>\n",
       "      <td>0</td>\n",
       "      <td>...</td>\n",
       "      <td>0</td>\n",
       "      <td>0</td>\n",
       "      <td>0</td>\n",
       "      <td>0</td>\n",
       "      <td>1</td>\n",
       "      <td>0</td>\n",
       "      <td>0</td>\n",
       "      <td>0</td>\n",
       "      <td>0</td>\n",
       "      <td>0</td>\n",
       "    </tr>\n",
       "    <tr>\n",
       "      <th>270</th>\n",
       "      <td>0.111111</td>\n",
       "      <td>0.560186</td>\n",
       "      <td>0</td>\n",
       "      <td>0</td>\n",
       "      <td>0</td>\n",
       "      <td>0</td>\n",
       "      <td>0</td>\n",
       "      <td>0</td>\n",
       "      <td>0</td>\n",
       "      <td>0</td>\n",
       "      <td>...</td>\n",
       "      <td>0</td>\n",
       "      <td>0</td>\n",
       "      <td>0</td>\n",
       "      <td>0</td>\n",
       "      <td>1</td>\n",
       "      <td>0</td>\n",
       "      <td>0</td>\n",
       "      <td>0</td>\n",
       "      <td>0</td>\n",
       "      <td>0</td>\n",
       "    </tr>\n",
       "    <tr>\n",
       "      <th>...</th>\n",
       "      <td>...</td>\n",
       "      <td>...</td>\n",
       "      <td>...</td>\n",
       "      <td>...</td>\n",
       "      <td>...</td>\n",
       "      <td>...</td>\n",
       "      <td>...</td>\n",
       "      <td>...</td>\n",
       "      <td>...</td>\n",
       "      <td>...</td>\n",
       "      <td>...</td>\n",
       "      <td>...</td>\n",
       "      <td>...</td>\n",
       "      <td>...</td>\n",
       "      <td>...</td>\n",
       "      <td>...</td>\n",
       "      <td>...</td>\n",
       "      <td>...</td>\n",
       "      <td>...</td>\n",
       "      <td>...</td>\n",
       "      <td>...</td>\n",
       "    </tr>\n",
       "    <tr>\n",
       "      <th>19864</th>\n",
       "      <td>0.444444</td>\n",
       "      <td>0.417227</td>\n",
       "      <td>0</td>\n",
       "      <td>0</td>\n",
       "      <td>0</td>\n",
       "      <td>0</td>\n",
       "      <td>0</td>\n",
       "      <td>0</td>\n",
       "      <td>0</td>\n",
       "      <td>0</td>\n",
       "      <td>...</td>\n",
       "      <td>0</td>\n",
       "      <td>0</td>\n",
       "      <td>0</td>\n",
       "      <td>0</td>\n",
       "      <td>1</td>\n",
       "      <td>0</td>\n",
       "      <td>0</td>\n",
       "      <td>0</td>\n",
       "      <td>0</td>\n",
       "      <td>0</td>\n",
       "    </tr>\n",
       "    <tr>\n",
       "      <th>9118</th>\n",
       "      <td>0.333333</td>\n",
       "      <td>-0.047696</td>\n",
       "      <td>0</td>\n",
       "      <td>0</td>\n",
       "      <td>0</td>\n",
       "      <td>0</td>\n",
       "      <td>0</td>\n",
       "      <td>0</td>\n",
       "      <td>0</td>\n",
       "      <td>0</td>\n",
       "      <td>...</td>\n",
       "      <td>0</td>\n",
       "      <td>0</td>\n",
       "      <td>0</td>\n",
       "      <td>0</td>\n",
       "      <td>0</td>\n",
       "      <td>0</td>\n",
       "      <td>1</td>\n",
       "      <td>0</td>\n",
       "      <td>0</td>\n",
       "      <td>0</td>\n",
       "    </tr>\n",
       "    <tr>\n",
       "      <th>9457</th>\n",
       "      <td>-0.888889</td>\n",
       "      <td>-0.796959</td>\n",
       "      <td>0</td>\n",
       "      <td>0</td>\n",
       "      <td>0</td>\n",
       "      <td>0</td>\n",
       "      <td>0</td>\n",
       "      <td>0</td>\n",
       "      <td>0</td>\n",
       "      <td>0</td>\n",
       "      <td>...</td>\n",
       "      <td>0</td>\n",
       "      <td>0</td>\n",
       "      <td>0</td>\n",
       "      <td>0</td>\n",
       "      <td>0</td>\n",
       "      <td>0</td>\n",
       "      <td>0</td>\n",
       "      <td>1</td>\n",
       "      <td>0</td>\n",
       "      <td>0</td>\n",
       "    </tr>\n",
       "    <tr>\n",
       "      <th>1536</th>\n",
       "      <td>0.111111</td>\n",
       "      <td>-0.018211</td>\n",
       "      <td>0</td>\n",
       "      <td>0</td>\n",
       "      <td>0</td>\n",
       "      <td>0</td>\n",
       "      <td>0</td>\n",
       "      <td>0</td>\n",
       "      <td>0</td>\n",
       "      <td>0</td>\n",
       "      <td>...</td>\n",
       "      <td>0</td>\n",
       "      <td>0</td>\n",
       "      <td>0</td>\n",
       "      <td>0</td>\n",
       "      <td>1</td>\n",
       "      <td>0</td>\n",
       "      <td>0</td>\n",
       "      <td>0</td>\n",
       "      <td>0</td>\n",
       "      <td>0</td>\n",
       "    </tr>\n",
       "    <tr>\n",
       "      <th>12741</th>\n",
       "      <td>-0.777778</td>\n",
       "      <td>-0.676042</td>\n",
       "      <td>0</td>\n",
       "      <td>0</td>\n",
       "      <td>0</td>\n",
       "      <td>0</td>\n",
       "      <td>0</td>\n",
       "      <td>0</td>\n",
       "      <td>0</td>\n",
       "      <td>1</td>\n",
       "      <td>...</td>\n",
       "      <td>0</td>\n",
       "      <td>0</td>\n",
       "      <td>0</td>\n",
       "      <td>0</td>\n",
       "      <td>0</td>\n",
       "      <td>0</td>\n",
       "      <td>1</td>\n",
       "      <td>0</td>\n",
       "      <td>0</td>\n",
       "      <td>0</td>\n",
       "    </tr>\n",
       "  </tbody>\n",
       "</table>\n",
       "<p>9089 rows × 48 columns</p>\n",
       "</div>"
      ],
      "text/plain": [
       "        car_age  odometer  manufacturer_acura  manufacturer_alfa-romeo  \\\n",
       "19957 -0.666667 -0.136240                   0                        0   \n",
       "5329   0.222222 -0.533440                   0                        0   \n",
       "10075 -0.777778 -0.679198                   0                        0   \n",
       "6175   1.111111  0.546431                   0                        0   \n",
       "270    0.111111  0.560186                   0                        0   \n",
       "...         ...       ...                 ...                      ...   \n",
       "19864  0.444444  0.417227                   0                        0   \n",
       "9118   0.333333 -0.047696                   0                        0   \n",
       "9457  -0.888889 -0.796959                   0                        0   \n",
       "1536   0.111111 -0.018211                   0                        0   \n",
       "12741 -0.777778 -0.676042                   0                        0   \n",
       "\n",
       "       manufacturer_aston-martin  manufacturer_audi  manufacturer_bmw  \\\n",
       "19957                          0                  0                 0   \n",
       "5329                           0                  0                 0   \n",
       "10075                          0                  0                 0   \n",
       "6175                           0                  0                 0   \n",
       "270                            0                  0                 0   \n",
       "...                          ...                ...               ...   \n",
       "19864                          0                  0                 0   \n",
       "9118                           0                  0                 0   \n",
       "9457                           0                  0                 0   \n",
       "1536                           0                  0                 0   \n",
       "12741                          0                  0                 0   \n",
       "\n",
       "       manufacturer_buick  manufacturer_cadillac  manufacturer_chevrolet  ...  \\\n",
       "19957                   0                      0                       0  ...   \n",
       "5329                    0                      0                       0  ...   \n",
       "10075                   0                      0                       0  ...   \n",
       "6175                    0                      0                       0  ...   \n",
       "270                     0                      0                       0  ...   \n",
       "...                   ...                    ...                     ...  ...   \n",
       "19864                   0                      0                       0  ...   \n",
       "9118                    0                      0                       0  ...   \n",
       "9457                    0                      0                       0  ...   \n",
       "1536                    0                      0                       0  ...   \n",
       "12741                   0                      0                       1  ...   \n",
       "\n",
       "       manufacturer_tesla  manufacturer_toyota  manufacturer_volkswagen  \\\n",
       "19957                   0                    0                        0   \n",
       "5329                    0                    0                        0   \n",
       "10075                   0                    0                        0   \n",
       "6175                    0                    0                        0   \n",
       "270                     0                    0                        0   \n",
       "...                   ...                  ...                      ...   \n",
       "19864                   0                    0                        0   \n",
       "9118                    0                    0                        0   \n",
       "9457                    0                    0                        0   \n",
       "1536                    0                    0                        0   \n",
       "12741                   0                    0                        0   \n",
       "\n",
       "       manufacturer_volvo  condition_excellent  condition_fair  \\\n",
       "19957                   0                    0               0   \n",
       "5329                    0                    1               0   \n",
       "10075                   0                    0               0   \n",
       "6175                    0                    1               0   \n",
       "270                     0                    1               0   \n",
       "...                   ...                  ...             ...   \n",
       "19864                   0                    1               0   \n",
       "9118                    0                    0               0   \n",
       "9457                    0                    0               0   \n",
       "1536                    0                    1               0   \n",
       "12741                   0                    0               0   \n",
       "\n",
       "       condition_good  condition_like new  condition_new  condition_salvage  \n",
       "19957               1                   0              0                  0  \n",
       "5329                0                   0              0                  0  \n",
       "10075               1                   0              0                  0  \n",
       "6175                0                   0              0                  0  \n",
       "270                 0                   0              0                  0  \n",
       "...               ...                 ...            ...                ...  \n",
       "19864               0                   0              0                  0  \n",
       "9118                1                   0              0                  0  \n",
       "9457                0                   1              0                  0  \n",
       "1536                0                   0              0                  0  \n",
       "12741               1                   0              0                  0  \n",
       "\n",
       "[9089 rows x 48 columns]"
      ]
     },
     "execution_count": 14,
     "metadata": {},
     "output_type": "execute_result"
    }
   ],
   "source": [
    "from sklearn.preprocessing import RobustScaler\n",
    "df_rob = X_train.copy()\n",
    "#only scale numeric varaibles in this case rather than the dummy variables for categories \n",
    "df_rob.loc[:,['car_age','odometer']] = RobustScaler().fit_transform(df_rob.loc[:, ['car_age','odometer']])\n",
    "df_rob"
   ]
  },
  {
   "cell_type": "code",
   "execution_count": 15,
   "id": "fbb8cb5a-4679-42cf-adc4-3994be2b6ac5",
   "metadata": {},
   "outputs": [],
   "source": [
    "#let's do a simple exmaple where we compare results with the different features scaling techniques. We will remove the categorical data for this. \n",
    "\n",
    "#the model we will be using is K Nearest Neighbors which can use euclidean distance. \n",
    "\n",
    "#we will use year and odometer to predict price \n",
    "\n",
    "from sklearn.neighbors import KNeighborsRegressor\n",
    "from sklearn.metrics import mean_absolute_error\n",
    "\n",
    "#noscaling \n",
    "neigh_am = KNeighborsRegressor(n_neighbors=3)\n",
    "neigh_am.fit(X_train.loc[:,['car_age','odometer']], y_train)\n",
    "pred = neigh_am.predict(X_test.loc[:,['car_age','odometer']])\n",
    "\n",
    "#absolute max \n",
    "neigh_am = KNeighborsRegressor(n_neighbors=3)\n",
    "neigh_am.fit(df_am.loc[:,['car_age','odometer']], y_train)\n",
    "am_pred = neigh_am.predict(X_test.loc[:,['car_age','odometer']])\n",
    "\n",
    "#min max (should get same results)\n",
    "neigh_mm = KNeighborsRegressor(n_neighbors=3)\n",
    "neigh_mm.fit(df_min_max.loc[:,['car_age','odometer']], y_train)\n",
    "mm_pred = neigh_mm.predict(X_test.loc[:,['car_age','odometer']])\n",
    "\n",
    "#standard (z score)\n",
    "neigh_std = KNeighborsRegressor(n_neighbors=3)\n",
    "neigh_std.fit(df_std.loc[:,['car_age','odometer']], y_train)\n",
    "std_pred = neigh_std.predict(X_test.loc[:,['car_age','odometer']])\n",
    "\n",
    "#robust scaler \n",
    "neigh_rob = KNeighborsRegressor(n_neighbors=3)\n",
    "neigh_rob.fit(df_rob.loc[:,['car_age','odometer']], y_train)\n",
    "rob_pred = neigh_rob.predict(X_test.loc[:,['car_age','odometer']])\n",
    "\n"
   ]
  },
  {
   "cell_type": "code",
   "execution_count": 16,
   "id": "e2052682-6edc-4bfc-bbd7-6e0172ceab71",
   "metadata": {},
   "outputs": [
    {
     "name": "stdout",
     "output_type": "stream",
     "text": [
      "No Scaling: 8043.326\n",
      "Abosolute Max Score: 13113.539\n",
      "Min Max Score: 13113.539\n",
      "Standard Scaling Score: 13179.587\n",
      "Robust Scaler Score: 13279.001\n"
     ]
    }
   ],
   "source": [
    "print('No Scaling: %.3f' % mean_absolute_error(y_test,pred))\n",
    "print('Abosolute Max Score: %.3f' % mean_absolute_error(y_test,am_pred))\n",
    "print('Min Max Score: %.3f' % mean_absolute_error(y_test,mm_pred))\n",
    "print('Standard Scaling Score: %.3f' % mean_absolute_error(y_test,std_pred))\n",
    "print('Robust Scaler Score: %.3f' % mean_absolute_error(y_test,rob_pred))\n"
   ]
  },
  {
   "cell_type": "markdown",
   "id": "f00f1ba7-b66c-4f57-9281-de7db79d0992",
   "metadata": {},
   "source": [
    "# Transformations \n",
    "A data transformation is the process of using a math expression to change the structure of our data. As we mentioned before, some models need data to fit a specific type of distribution for them to produce optimal results. Unfortunately, the data we get in the real world, doesn’t always fit the distributions our models call for. \n",
    "\n",
    "Let's look at the shape of our data and if it has any outliers before we do our transforms"
   ]
  },
  {
   "cell_type": "code",
   "execution_count": 17,
   "id": "5ecd5ccb-a18a-4236-b0c0-663ee97b29e4",
   "metadata": {},
   "outputs": [
    {
     "name": "stdout",
     "output_type": "stream",
     "text": [
      "max odometer: 10000000.0\n",
      "median odometer: 80652.0\n"
     ]
    },
    {
     "data": {
      "text/plain": [
       "<AxesSubplot:>"
      ]
     },
     "execution_count": 17,
     "metadata": {},
     "output_type": "execute_result"
    },
    {
     "data": {
      "image/png": "[encoded data removed]",
      "text/plain": [
       "<Figure size 432x288 with 1 Axes>"
      ]
     },
     "metadata": {
      "needs_background": "light"
     },
     "output_type": "display_data"
    }
   ],
   "source": [
    "# visual of the distribution of the odometer without any outlier removal (see boxplots above)\n",
    "#data is clearly impacted heavily by outliers \n",
    "print(\"max odometer: \" + str(df_example['odometer'].max()))\n",
    "print(\"median odometer: \" + str(df_example['odometer'].median()))\n",
    "\n",
    "df_example['odometer'].hist(bins=50)\n"
   ]
  },
  {
   "cell_type": "code",
   "execution_count": 18,
   "id": "c4e51c34-bd93-42c2-8daa-cecca7220507",
   "metadata": {},
   "outputs": [
    {
     "name": "stderr",
     "output_type": "stream",
     "text": [
      "C:\\Users\\sasi virat\\anaconda3\\envs\\DL_env\\lib\\site-packages\\ipykernel_launcher.py:3: UserWarning: Boolean Series key will be reindexed to match DataFrame index.\n",
      "  This is separate from the ipykernel package so we can avoid doing imports until\n"
     ]
    },
    {
     "data": {
      "text/plain": [
       "<AxesSubplot:>"
      ]
     },
     "execution_count": 18,
     "metadata": {},
     "output_type": "execute_result"
    },
    {
     "data": {
      "image/png": "[encoded data removed]",
      "text/plain": [
       "<Figure size 432x288 with 1 Axes>"
      ]
     },
     "metadata": {
      "needs_background": "light"
     },
     "output_type": "display_data"
    }
   ],
   "source": [
    "#shape of the data after very basic oultier removal (kept only data < 99th percentile)\n",
    "#clear right skew in data \n",
    "df_example[df['odometer']<df['odometer'].quantile(.99)]['odometer'].hist(bins=50)"
   ]
  },
  {
   "cell_type": "code",
   "execution_count": 19,
   "id": "c325fde8-edd5-4cc1-be41-ed2eaedbff15",
   "metadata": {},
   "outputs": [
    {
     "name": "stdout",
     "output_type": "stream",
     "text": [
      "max price: 204999\n",
      "median price: 14590.0\n"
     ]
    },
    {
     "data": {
      "text/plain": [
       "<AxesSubplot:>"
      ]
     },
     "execution_count": 19,
     "metadata": {},
     "output_type": "execute_result"
    },
    {
     "data": {
      "image/png": "[encoded data removed]",
      "text/plain": [
       "<Figure size 432x288 with 1 Axes>"
      ]
     },
     "metadata": {
      "needs_background": "light"
     },
     "output_type": "display_data"
    }
   ],
   "source": [
    "# visual of the distribution of the odometer without any outlier removal (see boxplots above)\n",
    "#data is clearly impacted heavily by outliers \n",
    "print(\"max price: \" + str(df_example['price'].max()))\n",
    "print(\"median price: \" + str(df_example['price'].median()))\n",
    "\n",
    "df_example['price'].hist(bins=50)"
   ]
  },
  {
   "cell_type": "code",
   "execution_count": 20,
   "id": "6ae07756-6543-4a3c-9c0f-2db88c30a5cd",
   "metadata": {},
   "outputs": [
    {
     "name": "stderr",
     "output_type": "stream",
     "text": [
      "C:\\Users\\sasi virat\\anaconda3\\envs\\DL_env\\lib\\site-packages\\ipykernel_launcher.py:4: UserWarning: Boolean Series key will be reindexed to match DataFrame index.\n",
      "  after removing the cwd from sys.path.\n"
     ]
    },
    {
     "data": {
      "text/plain": [
       "<AxesSubplot:>"
      ]
     },
     "execution_count": 20,
     "metadata": {},
     "output_type": "execute_result"
    },
    {
     "data": {
      "image/png": "[encoded data removed]",
      "text/plain": [
       "<Figure size 432x288 with 1 Axes>"
      ]
     },
     "metadata": {
      "needs_background": "light"
     },
     "output_type": "display_data"
    }
   ],
   "source": [
    "#shape of the data after very basic oultier removal (kept only data < 99th percentile)\n",
    "#clear right skew in data \n",
    "\n",
    "df_example[df['price']<df['price'].quantile(.99)]['price'].hist(bins=50)"
   ]
  },
  {
   "cell_type": "code",
   "execution_count": 21,
   "id": "33e5f95d-fb23-4044-b026-a48aaec3aea9",
   "metadata": {},
   "outputs": [
    {
     "name": "stdout",
     "output_type": "stream",
     "text": [
      "max age: 122.0\n",
      "median age: 113.0\n"
     ]
    },
    {
     "data": {
      "text/plain": [
       "<AxesSubplot:>"
      ]
     },
     "execution_count": 21,
     "metadata": {},
     "output_type": "execute_result"
    },
    {
     "data": {
      "image/png": "[encoded data removed]",
      "text/plain": [
       "<Figure size 432x288 with 1 Axes>"
      ]
     },
     "metadata": {
      "needs_background": "light"
     },
     "output_type": "display_data"
    }
   ],
   "source": [
    "# Let's do some simple feature engineering to get how old the cars are\n",
    "\n",
    "df_example['car_age'] = df_example['car_age'].max() - df_example['car_age']\n",
    "\n",
    "print(\"max age: \" + str(df_example['car_age'].max()))\n",
    "print(\"median age: \" + str(df_example['car_age'].median()))\n",
    "\n",
    "df_example['car_age'].hist(bins=50)"
   ]
  },
  {
   "cell_type": "markdown",
   "id": "637aa5e3-2e2c-4c80-9e56-d92a8b184706",
   "metadata": {},
   "source": [
    "# Logarithmic Transformation\n",
    "A very popular, common type of transformation is the log transformation. Log transformations fall under the family of power transformations. Typically, we apply logarithmic transformations to our variables when our variables are heavily right skewed, driven by a few outliers. \n",
    "\n",
    "Let's see how these transformations impact some of our skewed data (Odometer & Price)\n",
    "\n",
    "### Transforms we will cover\n",
    "- Logarithmic \n",
    "- Exponential\n",
    "- Square Root \n",
    "- Box-Cox"
   ]
  },
  {
   "cell_type": "code",
   "execution_count": 22,
   "id": "bb86da68-d464-446f-9d01-4c506ac9eca4",
   "metadata": {},
   "outputs": [],
   "source": [
    "from sklearn.preprocessing import FunctionTransformer\n",
    "\n",
    "def log_transform(x):\n",
    "    return np.log(x + 1)\n",
    "\n",
    "transformer_log = FunctionTransformer(log_transform)\n",
    "transformed_log = transformer_log.fit_transform(X_train)"
   ]
  },
  {
   "cell_type": "code",
   "execution_count": 23,
   "id": "e112607a-23f2-4f17-9dca-6f5b741001ee",
   "metadata": {},
   "outputs": [],
   "source": [
    "transformer_logp = FunctionTransformer(log_transform)\n",
    "transformed_logp = transformer_logp.fit_transform(y_train)"
   ]
  },
  {
   "cell_type": "code",
   "execution_count": 24,
   "id": "1cd4022f-b672-488c-8f8b-84f6e101fd52",
   "metadata": {},
   "outputs": [
    {
     "data": {
      "text/plain": [
       "<AxesSubplot:>"
      ]
     },
     "execution_count": 24,
     "metadata": {},
     "output_type": "execute_result"
    },
    {
     "data": {
      "image/png": "[encoded data removed]",
      "text/plain": [
       "<Figure size 432x288 with 1 Axes>"
      ]
     },
     "metadata": {
      "needs_background": "light"
     },
     "output_type": "display_data"
    }
   ],
   "source": [
    "#as you can see, using log transform in this case actually creates some right skew. \n",
    "#It does however almost completely normalize the outliers that were present\n",
    "\n",
    "transformed_log['odometer'].hist(bins = 100)"
   ]
  },
  {
   "cell_type": "code",
   "execution_count": 25,
   "id": "b1dc0efe-71b5-43a6-bc41-d3700c8093a0",
   "metadata": {},
   "outputs": [
    {
     "data": {
      "text/plain": [
       "<AxesSubplot:>"
      ]
     },
     "execution_count": 25,
     "metadata": {},
     "output_type": "execute_result"
    },
    {
     "data": {
      "image/png": "[encoded data removed]",
      "text/plain": [
       "<Figure size 432x288 with 1 Axes>"
      ]
     },
     "metadata": {
      "needs_background": "light"
     },
     "output_type": "display_data"
    }
   ],
   "source": [
    "transformed_log['car_age'].hist(bins = 20)"
   ]
  },
  {
   "cell_type": "code",
   "execution_count": 26,
   "id": "4b25d982-747c-40f1-8518-d43d44e8bffe",
   "metadata": {},
   "outputs": [
    {
     "data": {
      "text/plain": [
       "array([[<AxesSubplot:title={'center':'price'}>]], dtype=object)"
      ]
     },
     "execution_count": 26,
     "metadata": {},
     "output_type": "execute_result"
    },
    {
     "data": {
      "image/png": "[encoded data removed]",
      "text/plain": [
       "<Figure size 432x288 with 1 Axes>"
      ]
     },
     "metadata": {
      "needs_background": "light"
     },
     "output_type": "display_data"
    }
   ],
   "source": [
    "#as you can see, using log transform in this case actually creates some right skew. \n",
    "#It does however almost completely normalize the outliers that were present\n",
    "\n",
    "transformed_logp.hist(bins =100)"
   ]
  },
  {
   "cell_type": "markdown",
   "id": "edbcd9c7-6b52-4583-835b-05c486f31600",
   "metadata": {},
   "source": [
    "# Square Root Transform\n",
    "Square/Square Root transformations will compress the spread of your larger values but spread out your lower values. Log transformations have a similar effect but are much more aggressive"
   ]
  },
  {
   "cell_type": "code",
   "execution_count": 27,
   "id": "4a91aa9f-ba4c-47dc-8484-22fb7dd8dfcb",
   "metadata": {},
   "outputs": [],
   "source": [
    "def sqrt_transform(x):\n",
    "    return np.sqrt(x)\n",
    "\n",
    "transformer_sqrt = FunctionTransformer(sqrt_transform)\n",
    "transformed_sqrt = transformer_sqrt.fit_transform(X_train)"
   ]
  },
  {
   "cell_type": "code",
   "execution_count": 28,
   "id": "c89085c3-b521-4c21-9e17-2d693fb0a911",
   "metadata": {},
   "outputs": [],
   "source": [
    "transformer_sqrtp = FunctionTransformer(sqrt_transform)\n",
    "transformed_sqrtp = transformer_sqrtp.fit_transform(y_train)"
   ]
  },
  {
   "cell_type": "code",
   "execution_count": 29,
   "id": "24ec6611-31ed-42a0-8c5a-5735ffa9040f",
   "metadata": {},
   "outputs": [
    {
     "data": {
      "text/plain": [
       "<AxesSubplot:>"
      ]
     },
     "execution_count": 29,
     "metadata": {},
     "output_type": "execute_result"
    },
    {
     "data": {
      "image/png": "[encoded data removed]",
      "text/plain": [
       "<Figure size 432x288 with 1 Axes>"
      ]
     },
     "metadata": {
      "needs_background": "light"
     },
     "output_type": "display_data"
    }
   ],
   "source": [
    "transformed_sqrt['odometer'].hist(bins = 100)"
   ]
  },
  {
   "cell_type": "code",
   "execution_count": 30,
   "id": "2b455ead-d43e-499d-a97b-370f57edb31c",
   "metadata": {},
   "outputs": [
    {
     "data": {
      "text/plain": [
       "<AxesSubplot:>"
      ]
     },
     "execution_count": 30,
     "metadata": {},
     "output_type": "execute_result"
    },
    {
     "data": {
      "image/png": "[encoded data removed]",
      "text/plain": [
       "<Figure size 432x288 with 1 Axes>"
      ]
     },
     "metadata": {
      "needs_background": "light"
     },
     "output_type": "display_data"
    }
   ],
   "source": [
    "transformed_sqrt['car_age'].hist(bins = 20)"
   ]
  },
  {
   "cell_type": "code",
   "execution_count": 31,
   "id": "d13cba0f-e1dc-4d55-828b-bd51f28f50f7",
   "metadata": {},
   "outputs": [
    {
     "data": {
      "text/plain": [
       "array([[<AxesSubplot:title={'center':'price'}>]], dtype=object)"
      ]
     },
     "execution_count": 31,
     "metadata": {},
     "output_type": "execute_result"
    },
    {
     "data": {
      "image/png": "[encoded data removed]",
      "text/plain": [
       "<Figure size 432x288 with 1 Axes>"
      ]
     },
     "metadata": {
      "needs_background": "light"
     },
     "output_type": "display_data"
    }
   ],
   "source": [
    "transformed_sqrtp.hist(bins = 100)"
   ]
  },
  {
   "cell_type": "code",
   "execution_count": 32,
   "id": "eb98f1bd-819a-44ac-98ad-9857b6e63e48",
   "metadata": {},
   "outputs": [],
   "source": [
    "transformer_sqrtp = FunctionTransformer(sqrt_transform)\n",
    "transformed_sqrtp = transformer_sqrtp.fit_transform(y_train[y_train['price'] < y_train['price'].quantile(.99)])"
   ]
  },
  {
   "cell_type": "code",
   "execution_count": 33,
   "id": "e2cacbf1-f4a7-499b-90c9-98d131db0f25",
   "metadata": {},
   "outputs": [
    {
     "data": {
      "text/plain": [
       "array([[<AxesSubplot:title={'center':'price'}>]], dtype=object)"
      ]
     },
     "execution_count": 33,
     "metadata": {},
     "output_type": "execute_result"
    },
    {
     "data": {
      "image/png": "[encoded data removed]",
      "text/plain": [
       "<Figure size 432x288 with 1 Axes>"
      ]
     },
     "metadata": {
      "needs_background": "light"
     },
     "output_type": "display_data"
    }
   ],
   "source": [
    "transformed_sqrtp.hist(bins=50) "
   ]
  },
  {
   "cell_type": "code",
   "execution_count": null,
   "id": "316f7982-f2e8-432a-a49c-a407671eb2b8",
   "metadata": {},
   "outputs": [],
   "source": []
  },
  {
   "cell_type": "markdown",
   "id": "730c95d4-9d3a-4d9f-826d-5fba61acfbff",
   "metadata": {},
   "source": [
    "# Exponential Transformation\n",
    "A close cousin of the log transform is the exponential transformation. There are many instances where you'd use an exponential transform:\n",
    "- Anytime you apply a log transform to your target variable, you can apply an exponential transformation to revert it back to the original value.\n",
    "- Log and Exponential transformations are the inverse of each other. You can use either to perform the same task. Whether you want a log-linear or linear-log model.\n",
    "- Use Exponential transformations when you wanto magnify small differences."
   ]
  },
  {
   "cell_type": "code",
   "execution_count": 34,
   "id": "3f76f7da-8504-4c5e-aeda-50ae2fbde751",
   "metadata": {},
   "outputs": [],
   "source": [
    "def exp_transform(x):\n",
    "    return np.exp(x)\n",
    "\n",
    "transformer_exp = FunctionTransformer(exp_transform)\n",
    "\n",
    "## In our dataset, car age may be something we want to magnify\n",
    "transformed_exp = X_train.copy()\n",
    "\n",
    "transformed_exp['car_age'] = transformer_exp.fit_transform(transformed_exp['car_age'])"
   ]
  },
  {
   "cell_type": "code",
   "execution_count": 35,
   "id": "0173b96d-17a7-41dd-aa93-e13f067cfde8",
   "metadata": {},
   "outputs": [
    {
     "data": {
      "text/plain": [
       "(array([6.284e+03, 2.318e+03, 2.600e+02, 7.800e+01, 8.300e+01, 3.500e+01,\n",
       "        1.100e+01, 1.700e+01, 2.000e+00, 1.000e+00]),\n",
       " array([  0. ,  12.2,  24.4,  36.6,  48.8,  61. ,  73.2,  85.4,  97.6,\n",
       "        109.8, 122. ]),\n",
       " <BarContainer object of 10 artists>)"
      ]
     },
     "execution_count": 35,
     "metadata": {},
     "output_type": "execute_result"
    },
    {
     "data": {
      "image/png": "[encoded data removed]",
      "text/plain": [
       "<Figure size 432x288 with 1 Axes>"
      ]
     },
     "metadata": {
      "needs_background": "light"
     },
     "output_type": "display_data"
    }
   ],
   "source": [
    "plt.hist(X_train['car_age'])"
   ]
  },
  {
   "cell_type": "code",
   "execution_count": 36,
   "id": "3f557d29-6632-416e-8ead-29680565a62e",
   "metadata": {},
   "outputs": [
    {
     "data": {
      "text/plain": [
       "(array([9.088e+03, 0.000e+00, 0.000e+00, 0.000e+00, 0.000e+00, 0.000e+00,\n",
       "        0.000e+00, 0.000e+00, 0.000e+00, 1.000e+00]),\n",
       " array([1.00000000e+00, 9.63666567e+51, 1.92733313e+52, 2.89099970e+52,\n",
       "        3.85466627e+52, 4.81833284e+52, 5.78199940e+52, 6.74566597e+52,\n",
       "        7.70933254e+52, 8.67299911e+52, 9.63666567e+52]),\n",
       " <BarContainer object of 10 artists>)"
      ]
     },
     "execution_count": 36,
     "metadata": {},
     "output_type": "execute_result"
    },
    {
     "data": {
      "image/png": "[encoded data removed]",
      "text/plain": [
       "<Figure size 432x288 with 1 Axes>"
      ]
     },
     "metadata": {
      "needs_background": "light"
     },
     "output_type": "display_data"
    }
   ],
   "source": [
    "## X and y-scale here are much larger\n",
    "plt.hist(transformed_exp['car_age'])"
   ]
  },
  {
   "cell_type": "code",
   "execution_count": 37,
   "id": "695322bc-5c15-4717-ab39-2c5c34810c74",
   "metadata": {},
   "outputs": [
    {
     "data": {
      "text/plain": [
       "19957     67272.0\n",
       "5329      27249.0\n",
       "10075     12562.0\n",
       "6175     136060.0\n",
       "270      137446.0\n",
       "           ...   \n",
       "19864    123041.0\n",
       "9118      76194.0\n",
       "9457        696.0\n",
       "1536      79165.0\n",
       "12741     12880.0\n",
       "Name: odometer, Length: 9089, dtype: float64"
      ]
     },
     "execution_count": 37,
     "metadata": {},
     "output_type": "execute_result"
    }
   ],
   "source": [
    "transformed_exp['odometer']"
   ]
  },
  {
   "cell_type": "code",
   "execution_count": null,
   "id": "b553ed9e-21e5-4fa3-83aa-adcd1d633f00",
   "metadata": {},
   "outputs": [],
   "source": []
  },
  {
   "cell_type": "code",
   "execution_count": null,
   "id": "a611709f-3b40-4f6e-9cbf-f86f56789e46",
   "metadata": {},
   "outputs": [],
   "source": []
  },
  {
   "cell_type": "markdown",
   "id": "78132ab1-6ce6-4564-9c62-d62c03c6553d",
   "metadata": {},
   "source": [
    "# Box-Cox Transformation\n",
    "The Box-Cox transformation is a transformation that helps your dataset follow a normal distribution. Typically, we use Box-Cox transformation when our dataset is not normal, but close to being normal. When we want to either run tests or generate significance from our dataset, Box-Cox transformation is a good option to transform our target variable so it resembles a normal distribution.\n",
    "\n",
    "Box-Cox aggregates multiple power transformers into a single transformer. You use lambda to adjust the transformation. Lambda varies from -5 to 5. If we set lambda equal to zero, it becomes simply a log transformation. "
   ]
  },
  {
   "cell_type": "code",
   "execution_count": 38,
   "id": "78371af1-f191-471f-9df6-179590fc131c",
   "metadata": {},
   "outputs": [],
   "source": [
    "## Redo the pipeline for this example\n",
    "from sklearn.model_selection import train_test_split\n",
    "\n",
    "## Clip Outliers\n",
    "df_example = df_example[df_example['price'] < np.percentile(df_example['price'], 95)]\n",
    "\n",
    "## Remove prices that are 0 to make notebook work\n",
    "df_example = df_example[df_example['price'] > 0].copy()\n",
    "\n",
    "X = df_example.drop('price',axis =1 )\n",
    "y = df_example[['price']]\n",
    "\n",
    "X_train, X_test, y_train, y_test = train_test_split(X, y, test_size=0.2, random_state=42)"
   ]
  },
  {
   "cell_type": "code",
   "execution_count": 39,
   "id": "5ae58d2c-be21-4923-b8d0-1467549880a2",
   "metadata": {},
   "outputs": [
    {
     "data": {
      "text/plain": [
       "(array([1018., 1575., 1155.,  892.,  791.,  597.,  653.,  609.,  514.,\n",
       "         476.]),\n",
       " array([1.00000e+00, 4.00090e+03, 8.00080e+03, 1.20007e+04, 1.60006e+04,\n",
       "        2.00005e+04, 2.40004e+04, 2.80003e+04, 3.20002e+04, 3.60001e+04,\n",
       "        4.00000e+04]),\n",
       " <BarContainer object of 10 artists>)"
      ]
     },
     "execution_count": 39,
     "metadata": {},
     "output_type": "execute_result"
    },
    {
     "data": {
      "image/png": "[encoded data removed]",
      "text/plain": [
       "<Figure size 432x288 with 1 Axes>"
      ]
     },
     "metadata": {
      "needs_background": "light"
     },
     "output_type": "display_data"
    }
   ],
   "source": [
    "plt.hist(y_train['price'])"
   ]
  },
  {
   "cell_type": "markdown",
   "id": "64f66e0f-9fee-4916-b744-9f18e45ebb14",
   "metadata": {},
   "source": [
    "We'll apply a boxcox transformation to make this dataset a bit more normal. Within scipy.stats, we can set lmbda = None and the boxcox function will find the lambda value that will maximize the log-likelihood function of the dataset:"
   ]
  },
  {
   "cell_type": "code",
   "execution_count": 40,
   "id": "2b1d5985-856d-4ce8-89e2-64a8d42b63da",
   "metadata": {},
   "outputs": [
    {
     "data": {
      "text/plain": [
       "(array([  92.,  156.,  423.,  938., 1341., 1099., 1065.,  975., 1134.,\n",
       "        1057.]),\n",
       " array([  0.        ,  29.77343267,  59.54686534,  89.32029801,\n",
       "        119.09373068, 148.86716335, 178.64059603, 208.4140287 ,\n",
       "        238.18746137, 267.96089404, 297.73432671]),\n",
       " <BarContainer object of 10 artists>)"
      ]
     },
     "execution_count": 40,
     "metadata": {},
     "output_type": "execute_result"
    },
    {
     "data": {
      "image/png": "[encoded data removed]",
      "text/plain": [
       "<Figure size 432x288 with 1 Axes>"
      ]
     },
     "metadata": {
      "needs_background": "light"
     },
     "output_type": "display_data"
    }
   ],
   "source": [
    "from scipy.stats import boxcox\n",
    "\n",
    "boxcox_y_train = boxcox(y_train['price'], lmbda = None)\n",
    "\n",
    "plt.hist(boxcox_y_train[0])"
   ]
  },
  {
   "cell_type": "code",
   "execution_count": 41,
   "id": "772e2178-9169-41a8-b61d-aafd75911441",
   "metadata": {},
   "outputs": [
    {
     "name": "stdout",
     "output_type": "stream",
     "text": [
      "Lambda Parameter 0.46621045135705014\n"
     ]
    }
   ],
   "source": [
    "print(\"Lambda Parameter {0}\".format(boxcox_y_train[1]))"
   ]
  },
  {
   "cell_type": "code",
   "execution_count": null,
   "id": "42c58326-6d2e-4081-a780-a60e49ef2438",
   "metadata": {},
   "outputs": [],
   "source": []
  },
  {
   "cell_type": "markdown",
   "id": "3408e7ad-47a4-46ba-8e06-bb6273d47cbc",
   "metadata": {},
   "source": [
    "# Feature Interactions \n",
    "Like a chef remixing their ingredients, as a data scientist, we have a ton of different ways we can engineer features with our variables. Here are a few common methods:\n",
    "\n",
    "- Arethmetic Interaction (addition, subtraction, division, or multiplication of variables)\n",
    "- Binning (grouping variables in ranges)\n",
    "- Creative Features (alternative metrics for evaluation)"
   ]
  },
  {
   "cell_type": "markdown",
   "id": "5e1c62ab-06a9-4573-bacd-ba6aa42858f2",
   "metadata": {},
   "source": [
    "## Arethmetic Interaction\n",
    "We actually already did some arethmetic interaction at the beginning of our analysis here. One of the earliest things we did was get the car age by taking the difference between the newest eyar and the year of each vehicle. While this is interaction with the variable itself, we can also take differences, ratios and mutliples of two or more variables. Let's try a few: "
   ]
  },
  {
   "cell_type": "code",
   "execution_count": 42,
   "id": "104f828d-de97-4bd2-9336-3291f6708b74",
   "metadata": {},
   "outputs": [],
   "source": [
    "#first example of getting car's age:\n",
    "df['car_age'] = df['year'].max() - df['year']\n",
    "\n",
    "#let's look at price per mile. This could be a good way to normalize across different car brands \n",
    "df['price_per_mile'] = df['price']/ df['odometer']\n",
    "\n",
    "#We can try these newly created features in our model to see if they produce better results."
   ]
  },
  {
   "cell_type": "markdown",
   "id": "4cb71567-eb2c-4c08-87bd-8744c3428138",
   "metadata": {},
   "source": [
    "## Binning \n",
    "Binning allows us to group specific variables in a range. This can be useful if we know something specific or non-linear about the data at hand. For example, if most cars go out of warranty at 50,000 miles or after 5 years, we can create a varaible bin based on that. \n",
    "\n",
    "We can also split data into multiple ranges if we would like to. "
   ]
  },
  {
   "cell_type": "code",
   "execution_count": 43,
   "id": "58780051-c5e0-4be2-9465-917ff77b0983",
   "metadata": {},
   "outputs": [],
   "source": [
    "#create warranty bin > 50,000 miles \n",
    "# we are using a lambda function here. This lets us write a function without defining it\n",
    "# we are also using a ternary operator which is an if, else statement in a single line. (explained in the full video)\n",
    "\n",
    "df['warranty_miles'] = df['odometer'].apply(lambda x: 0 if (x > 50000 or np.isnan(x)) else 1)\n",
    "df['warranty_age'] = df['car_age'].apply(lambda x: 0 if (x > 5 or np.isnan(x)) else 1)\n",
    "\n",
    "\n",
    "# We can also combine these together in a single statement by defining a function.\n",
    "def warranty(miles, age):\n",
    "    if (miles > 50000 or age > 5):\n",
    "        return 0\n",
    "    else:\n",
    "        return 1\n",
    "    \n",
    "df['warranty'] = df.apply(lambda x: min(x.warranty_miles,x.warranty_age), axis=1)\n"
   ]
  },
  {
   "cell_type": "code",
   "execution_count": 44,
   "id": "210ce528-73ec-4a40-8f5c-1ac06bef7fb8",
   "metadata": {},
   "outputs": [
    {
     "data": {
      "text/html": [
       "<div>\n",
       "<style scoped>\n",
       "    .dataframe tbody tr th:only-of-type {\n",
       "        vertical-align: middle;\n",
       "    }\n",
       "\n",
       "    .dataframe tbody tr th {\n",
       "        vertical-align: top;\n",
       "    }\n",
       "\n",
       "    .dataframe thead th {\n",
       "        text-align: right;\n",
       "    }\n",
       "</style>\n",
       "<table border=\"1\" class=\"dataframe\">\n",
       "  <thead>\n",
       "    <tr style=\"text-align: right;\">\n",
       "      <th></th>\n",
       "      <th>odometer</th>\n",
       "      <th>car_age</th>\n",
       "      <th>warranty_miles</th>\n",
       "      <th>warranty_age</th>\n",
       "      <th>warranty</th>\n",
       "    </tr>\n",
       "  </thead>\n",
       "  <tbody>\n",
       "    <tr>\n",
       "      <th>0</th>\n",
       "      <td>84000.0</td>\n",
       "      <td>16.0</td>\n",
       "      <td>0</td>\n",
       "      <td>0</td>\n",
       "      <td>0</td>\n",
       "    </tr>\n",
       "    <tr>\n",
       "      <th>1</th>\n",
       "      <td>85971.0</td>\n",
       "      <td>11.0</td>\n",
       "      <td>0</td>\n",
       "      <td>0</td>\n",
       "      <td>0</td>\n",
       "    </tr>\n",
       "    <tr>\n",
       "      <th>2</th>\n",
       "      <td>170000.0</td>\n",
       "      <td>18.0</td>\n",
       "      <td>0</td>\n",
       "      <td>0</td>\n",
       "      <td>0</td>\n",
       "    </tr>\n",
       "    <tr>\n",
       "      <th>3</th>\n",
       "      <td>78664.0</td>\n",
       "      <td>9.0</td>\n",
       "      <td>0</td>\n",
       "      <td>0</td>\n",
       "      <td>0</td>\n",
       "    </tr>\n",
       "    <tr>\n",
       "      <th>4</th>\n",
       "      <td>140000.0</td>\n",
       "      <td>16.0</td>\n",
       "      <td>0</td>\n",
       "      <td>0</td>\n",
       "      <td>0</td>\n",
       "    </tr>\n",
       "  </tbody>\n",
       "</table>\n",
       "</div>"
      ],
      "text/plain": [
       "   odometer  car_age  warranty_miles  warranty_age  warranty\n",
       "0   84000.0     16.0               0             0         0\n",
       "1   85971.0     11.0               0             0         0\n",
       "2  170000.0     18.0               0             0         0\n",
       "3   78664.0      9.0               0             0         0\n",
       "4  140000.0     16.0               0             0         0"
      ]
     },
     "execution_count": 44,
     "metadata": {},
     "output_type": "execute_result"
    }
   ],
   "source": [
    "df.loc[:,['odometer','car_age','warranty_miles','warranty_age','warranty']].dropna().head()"
   ]
  },
  {
   "cell_type": "code",
   "execution_count": 45,
   "id": "bf9038f8-38cc-4921-8522-4cda2e001588",
   "metadata": {},
   "outputs": [],
   "source": [
    "#We might also know that cars lose value non-linearly after 50k miles or 100k miles. \n",
    "#In this case, we may want to create bucks for <50k, 50k-100k, and 100k+ miles.\n",
    "#we did something similiar in the eda notebook located here: https://www.kaggle.com/code/kenjee/basic-eda-example\n",
    "bins = pd.IntervalIndex.from_tuples([(0, 50000), (50000, 100000), (100000,float(\"inf\"))])\n",
    "df['mile_groups'] = pd.cut(df['odometer'],bins)"
   ]
  },
  {
   "cell_type": "markdown",
   "id": "8241013e-4249-41cd-b4fc-ec7a11a35daf",
   "metadata": {},
   "source": [
    "## Creative features \n",
    "Often, we have a good subject area understanding of our data domain. We might want to create features based on our understanding of the specific problem or domain. For cars, maybe we could create our own classification of imports or US manufactured cars that could help us predict pricing better. Maybe there is a car desirabity metric that you could create based on the other factors. Or maybe there is a way to look at the amount of similar cars close by to approximate demand. These are some potential ideas for you to implement yourself! \n",
    "\n",
    "Another way to get creative features are to find more data and add it to your dataset. We could find a car sales website and scrape the average price of the cars in the market based on the make and model. "
   ]
  },
  {
   "cell_type": "markdown",
   "id": "d60cd63b-a995-4d3f-8590-ffb9a6733420",
   "metadata": {},
   "source": [
    "# Summary\n",
    "In this notebook, we covered the basics of feature scaling, transformations and interaction features. Working on these techiniques should help you to improve your models significantly! \n",
    "## Feature Scaling\n",
    "- Absolute Max Scaling\n",
    "- MinMax Scaling\n",
    "- Z-Score Normalization (Standard Scaler)\n",
    "- Robust Scaler \n",
    "## Transformations \n",
    "- Logarithmic \n",
    "- Square Root \n",
    "- Exponential\n",
    "- Box-Cox\n",
    "## Interaction Features\n",
    "- Arethmetic Interaction\n",
    "- Binning\n",
    "- Creative Features "
   ]
  },
  {
   "cell_type": "markdown",
   "id": "5c1e3068-b2f6-4fd8-abc2-a34c6beb588a",
   "metadata": {},
   "source": [
    "## Additional Resources\n",
    "- [About Feature Scaling and Normalization by Sebastian Raschka](https://sebastianraschka.com/Articles/2014_about_feature_scaling.html)\n",
    "- [Feature Scaling Techniques in Python – A Complete Guide by Eddie_4072](https://www.analyticsvidhya.com/blog/2021/05/feature-scaling-techniques-in-python-a-complete-guide/)\n",
    "- [Feature Scaling for Machine Learning: Understanding the Difference Between Normalization vs. Standardization by Aniruddha Bhandari](https://www.analyticsvidhya.com/blog/2020/04/feature-scaling-machine-learning-normalization-standardization/#:~:text=Normalization%20is%20a%20scaling%20technique,known%20as%20Min%2DMax%20scaling.&text=Here%2C%20Xmax%20and%20Xmin%20are,values%20of%20the%20feature%20respectively.)\n",
    "- [Robust Scaler - Sklearn Docs](https://scikit-learn.org/stable/modules/generated/sklearn.preprocessing.RobustScaler.html)\n",
    "- [Log Transformation: Purpose and Interpretation by Kyaw Saw Htoon](https://medium.com/@kyawsawhtoon/log-transformation-purpose-and-interpretation-9444b4b049c9)\n",
    "- [Best exponential transformation to linearize your data with Scipy](https://towardsdatascience.com/best-exponential-transformation-to-linearize-your-data-with-scipy-cca6110313a6)\n",
    "- [Exponentially scaling your data in order to zoom in on small differences](https://rikunert.com/exponential_scaler)\n",
    "- [Box Cox Transformation by Ted Hessing](https://sixsigmastudyguide.com/box-cox-transformation/)\n",
    "- [Box-Cox Transformation and Target Variable: Explained](https://builtin.com/data-science/box-cox-transformation-target-variable)\n",
    "- [Additional Kaggle Example](https://www.kaggle.com/code/mysarahmadbhat/all-about-feature-scaling)"
   ]
  },
  {
   "cell_type": "code",
   "execution_count": null,
   "id": "41f0127d-72fd-452b-bc4c-ececc1cd86eb",
   "metadata": {},
   "outputs": [],
   "source": []
  }
 ],
 "metadata": {
  "kernelspec": {
   "display_name": "DL_env",
   "language": "python",
   "name": "dl_env"
  },
  "language_info": {
   "codemirror_mode": {
    "name": "ipython",
    "version": 3
   },
   "file_extension": ".py",
   "mimetype": "text/x-python",
   "name": "python",
   "nbconvert_exporter": "python",
   "pygments_lexer": "ipython3",
   "version": "3.6.3"
  }
 },
 "nbformat": 4,
 "nbformat_minor": 5
}
