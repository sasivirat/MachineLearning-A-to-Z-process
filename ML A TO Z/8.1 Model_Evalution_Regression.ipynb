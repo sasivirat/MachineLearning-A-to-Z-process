{
 "cells": [
  {
   "cell_type": "markdown",
   "id": "6ba1641e-7c39-47b2-95db-418f5cd15dae",
   "metadata": {},
   "source": [
    "# Regression Metrics\n",
    "\n",
    "In this notebook, we will go through the most common regression metrics. This is a companion workbook for the 365 Data Science course on ML Process. This notebook only focuses on implementation. Check out the course or the documentation for the in-depth explanations of each approach.\n",
    "\n",
    "We will cover:\n",
    "\n",
    "- R2 Score\n",
    "- Adj R2 Score\n",
    "- Mean Absolute Error\n",
    "- Root Mean Squared Error\n",
    "\n"
   ]
  },
  {
   "cell_type": "code",
   "execution_count": 1,
   "id": "6db589d1-4cdf-4ae5-9229-7d731da94482",
   "metadata": {},
   "outputs": [],
   "source": [
    "import pandas as pd\n",
    "import numpy as np\n",
    "import matplotlib.pyplot as plt\n",
    "\n",
    "%matplotlib inline"
   ]
  },
  {
   "cell_type": "markdown",
   "id": "b6cf870e-f7ad-40f1-bb79-069d5804a505",
   "metadata": {},
   "source": [
    "## Load Data\n",
    "\n",
    "Next, we'll load our customer lifetime value dataset. You'll see in our dataset, we have about 6 columns. The `purchases` column is the column we care about in our customer lifetime value problem. "
   ]
  },
  {
   "cell_type": "markdown",
   "id": "adcdc3f5-e81e-4909-838a-f1e3e1c711da",
   "metadata": {},
   "source": [
    "https://www.kaggle.com/datasets/sasivirat18/machine-learning-datasets"
   ]
  },
  {
   "cell_type": "code",
   "execution_count": 3,
   "id": "e1b323e0-cd32-4e6d-bbb5-8c12140e612c",
   "metadata": {},
   "outputs": [
    {
     "data": {
      "text/html": [
       "<div>\n",
       "<style scoped>\n",
       "    .dataframe tbody tr th:only-of-type {\n",
       "        vertical-align: middle;\n",
       "    }\n",
       "\n",
       "    .dataframe tbody tr th {\n",
       "        vertical-align: top;\n",
       "    }\n",
       "\n",
       "    .dataframe thead th {\n",
       "        text-align: right;\n",
       "    }\n",
       "</style>\n",
       "<table border=\"1\" class=\"dataframe\">\n",
       "  <thead>\n",
       "    <tr style=\"text-align: right;\">\n",
       "      <th></th>\n",
       "      <th>date</th>\n",
       "      <th>price</th>\n",
       "      <th>bedrooms</th>\n",
       "      <th>bathrooms</th>\n",
       "      <th>sqft_living</th>\n",
       "      <th>sqft_lot</th>\n",
       "      <th>floors</th>\n",
       "      <th>waterfront</th>\n",
       "      <th>view</th>\n",
       "      <th>condition</th>\n",
       "      <th>sqft_above</th>\n",
       "      <th>sqft_basement</th>\n",
       "      <th>yr_built</th>\n",
       "      <th>yr_renovated</th>\n",
       "      <th>street</th>\n",
       "      <th>city</th>\n",
       "      <th>statezip</th>\n",
       "      <th>country</th>\n",
       "    </tr>\n",
       "  </thead>\n",
       "  <tbody>\n",
       "    <tr>\n",
       "      <th>0</th>\n",
       "      <td>2014-05-02 00:00:00</td>\n",
       "      <td>313000.0</td>\n",
       "      <td>3.0</td>\n",
       "      <td>1.50</td>\n",
       "      <td>1340</td>\n",
       "      <td>7912</td>\n",
       "      <td>1.5</td>\n",
       "      <td>0</td>\n",
       "      <td>0</td>\n",
       "      <td>3</td>\n",
       "      <td>1340</td>\n",
       "      <td>0</td>\n",
       "      <td>1955</td>\n",
       "      <td>2005</td>\n",
       "      <td>18810 Densmore Ave N</td>\n",
       "      <td>Shoreline</td>\n",
       "      <td>WA 98133</td>\n",
       "      <td>USA</td>\n",
       "    </tr>\n",
       "    <tr>\n",
       "      <th>1</th>\n",
       "      <td>2014-05-02 00:00:00</td>\n",
       "      <td>2384000.0</td>\n",
       "      <td>5.0</td>\n",
       "      <td>2.50</td>\n",
       "      <td>3650</td>\n",
       "      <td>9050</td>\n",
       "      <td>2.0</td>\n",
       "      <td>0</td>\n",
       "      <td>4</td>\n",
       "      <td>5</td>\n",
       "      <td>3370</td>\n",
       "      <td>280</td>\n",
       "      <td>1921</td>\n",
       "      <td>0</td>\n",
       "      <td>709 W Blaine St</td>\n",
       "      <td>Seattle</td>\n",
       "      <td>WA 98119</td>\n",
       "      <td>USA</td>\n",
       "    </tr>\n",
       "    <tr>\n",
       "      <th>2</th>\n",
       "      <td>2014-05-02 00:00:00</td>\n",
       "      <td>342000.0</td>\n",
       "      <td>3.0</td>\n",
       "      <td>2.00</td>\n",
       "      <td>1930</td>\n",
       "      <td>11947</td>\n",
       "      <td>1.0</td>\n",
       "      <td>0</td>\n",
       "      <td>0</td>\n",
       "      <td>4</td>\n",
       "      <td>1930</td>\n",
       "      <td>0</td>\n",
       "      <td>1966</td>\n",
       "      <td>0</td>\n",
       "      <td>26206-26214 143rd Ave SE</td>\n",
       "      <td>Kent</td>\n",
       "      <td>WA 98042</td>\n",
       "      <td>USA</td>\n",
       "    </tr>\n",
       "    <tr>\n",
       "      <th>3</th>\n",
       "      <td>2014-05-02 00:00:00</td>\n",
       "      <td>420000.0</td>\n",
       "      <td>3.0</td>\n",
       "      <td>2.25</td>\n",
       "      <td>2000</td>\n",
       "      <td>8030</td>\n",
       "      <td>1.0</td>\n",
       "      <td>0</td>\n",
       "      <td>0</td>\n",
       "      <td>4</td>\n",
       "      <td>1000</td>\n",
       "      <td>1000</td>\n",
       "      <td>1963</td>\n",
       "      <td>0</td>\n",
       "      <td>857 170th Pl NE</td>\n",
       "      <td>Bellevue</td>\n",
       "      <td>WA 98008</td>\n",
       "      <td>USA</td>\n",
       "    </tr>\n",
       "    <tr>\n",
       "      <th>4</th>\n",
       "      <td>2014-05-02 00:00:00</td>\n",
       "      <td>550000.0</td>\n",
       "      <td>4.0</td>\n",
       "      <td>2.50</td>\n",
       "      <td>1940</td>\n",
       "      <td>10500</td>\n",
       "      <td>1.0</td>\n",
       "      <td>0</td>\n",
       "      <td>0</td>\n",
       "      <td>4</td>\n",
       "      <td>1140</td>\n",
       "      <td>800</td>\n",
       "      <td>1976</td>\n",
       "      <td>1992</td>\n",
       "      <td>9105 170th Ave NE</td>\n",
       "      <td>Redmond</td>\n",
       "      <td>WA 98052</td>\n",
       "      <td>USA</td>\n",
       "    </tr>\n",
       "  </tbody>\n",
       "</table>\n",
       "</div>"
      ],
      "text/plain": [
       "                  date      price  bedrooms  bathrooms  sqft_living  sqft_lot  \\\n",
       "0  2014-05-02 00:00:00   313000.0       3.0       1.50         1340      7912   \n",
       "1  2014-05-02 00:00:00  2384000.0       5.0       2.50         3650      9050   \n",
       "2  2014-05-02 00:00:00   342000.0       3.0       2.00         1930     11947   \n",
       "3  2014-05-02 00:00:00   420000.0       3.0       2.25         2000      8030   \n",
       "4  2014-05-02 00:00:00   550000.0       4.0       2.50         1940     10500   \n",
       "\n",
       "   floors  waterfront  view  condition  sqft_above  sqft_basement  yr_built  \\\n",
       "0     1.5           0     0          3        1340              0      1955   \n",
       "1     2.0           0     4          5        3370            280      1921   \n",
       "2     1.0           0     0          4        1930              0      1966   \n",
       "3     1.0           0     0          4        1000           1000      1963   \n",
       "4     1.0           0     0          4        1140            800      1976   \n",
       "\n",
       "   yr_renovated                    street       city  statezip country  \n",
       "0          2005      18810 Densmore Ave N  Shoreline  WA 98133     USA  \n",
       "1             0           709 W Blaine St    Seattle  WA 98119     USA  \n",
       "2             0  26206-26214 143rd Ave SE       Kent  WA 98042     USA  \n",
       "3             0           857 170th Pl NE   Bellevue  WA 98008     USA  \n",
       "4          1992         9105 170th Ave NE    Redmond  WA 98052     USA  "
      ]
     },
     "execution_count": 3,
     "metadata": {},
     "output_type": "execute_result"
    }
   ],
   "source": [
    "df = pd.read_csv(r\"C:\\Users\\sasi virat\\Downloads\\learn-machine-learning-process-a-z\\Section 12\\10_Classification metrics - Coding portion\\Course notes\\housing_data.csv\")\n",
    "\n",
    "df.head()"
   ]
  },
  {
   "cell_type": "markdown",
   "id": "db8e5359-f79b-48b5-a274-10d5b8fd9380",
   "metadata": {},
   "source": [
    "## Feature Selection\n",
    "\n",
    "Let's select the features we want to use in the model. To keep things simple, we've manually selected a list of features:"
   ]
  },
  {
   "cell_type": "code",
   "execution_count": 4,
   "id": "868e8395-f499-4eb1-aabd-6a51fa29ab3a",
   "metadata": {},
   "outputs": [],
   "source": [
    "features = ['bedrooms', 'bathrooms', 'sqft_living', 'sqft_lot',\n",
    "       'floors', 'waterfront', 'view', 'condition', 'sqft_above',\n",
    "       'sqft_basement', 'yr_built', 'yr_renovated']\n",
    "\n",
    "target = \"price\""
   ]
  },
  {
   "cell_type": "markdown",
   "id": "132ec81c-b188-45b1-be1f-fc51796a836f",
   "metadata": {},
   "source": [
    "## Cross-Validation\n",
    "\n",
    "Next, we'll want to split our data into training and testing sets:"
   ]
  },
  {
   "cell_type": "code",
   "execution_count": 6,
   "id": "7a5e607a-305e-49b1-a3c2-12e20e23104f",
   "metadata": {},
   "outputs": [],
   "source": [
    "from sklearn.model_selection import train_test_split\n",
    "\n",
    "y = df[target]\n",
    "X = df[features]\n",
    "\n",
    "X_train, X_test, y_train, y_test = train_test_split(X, y, test_size=0.33, random_state=42)"
   ]
  },
  {
   "cell_type": "markdown",
   "id": "af26c829-9cb2-4f3f-9404-ad742f518d29",
   "metadata": {},
   "source": [
    "## Model\n",
    "\n",
    "To keep things simple, we'll use linear regression:"
   ]
  },
  {
   "cell_type": "code",
   "execution_count": 7,
   "id": "6da82e5a-d7d5-4b79-8028-79507196e54b",
   "metadata": {},
   "outputs": [],
   "source": [
    "from sklearn.ensemble import RandomForestRegressor\n",
    "from sklearn.linear_model import LinearRegression\n",
    "\n",
    "model = LinearRegression()\n",
    "\n",
    "model.fit(X_train, y_train)\n",
    "y_preds = model.predict(X_test)\n"
   ]
  },
  {
   "cell_type": "markdown",
   "id": "e979ab5d-e8cd-4173-a331-766d09486ee6",
   "metadata": {},
   "source": [
    "## Evaluation Metrics\n",
    "\n",
    "The most common evaluation metrics are r2_score, rmse and mae. Here, sklearn has its own implementation:"
   ]
  },
  {
   "cell_type": "code",
   "execution_count": 8,
   "id": "b574f952-8576-4878-920e-d59b79512967",
   "metadata": {},
   "outputs": [
    {
     "name": "stdout",
     "output_type": "stream",
     "text": [
      "r2_score: 0.06623293120936191\n",
      "rmse: 788277.1876925766\n",
      "mae: 191902.15686060727\n"
     ]
    }
   ],
   "source": [
    "from sklearn.metrics import (\n",
    "    r2_score,\n",
    "    mean_absolute_error,\n",
    "    mean_squared_error\n",
    ")\n",
    "\n",
    "r2 = r2_score(y_test, y_preds)\n",
    "rmse = np.sqrt(mean_squared_error(y_test, y_preds))\n",
    "mae = mean_absolute_error(y_test, y_preds)\n",
    "\n",
    "print(\"r2_score: {0}\".format(r2))\n",
    "print(\"rmse: {0}\".format(rmse))\n",
    "print(\"mae: {0}\".format(mae))"
   ]
  },
  {
   "cell_type": "markdown",
   "id": "6d1c2d86-71f6-4158-9e3a-7dd7da022a2e",
   "metadata": {},
   "source": [
    "## R2 Score\n",
    "\n",
    "Intuition behind R-squared is that it tells us what percent of the prediction error in the y variable is eliminated/explained by your model. We use this to determine “goodness of fit.” \n",
    "\n",
    "Here's an implementation of R2 so you can see the inner workings of the metric:"
   ]
  },
  {
   "cell_type": "code",
   "execution_count": 9,
   "id": "d618dd0f-b076-4bf7-9ba4-dcba5f57f91a",
   "metadata": {},
   "outputs": [
    {
     "data": {
      "text/plain": [
       "0.06623293120936191"
      ]
     },
     "execution_count": 9,
     "metadata": {},
     "output_type": "execute_result"
    }
   ],
   "source": [
    "def r2_score(y_test, y_preds):\n",
    "    SS_reg = np.sum((y_test - y_preds)**2)\n",
    "    SS_total = np.sum((y_test - np.mean(y_test))**2)\n",
    "    r2 = 1-SS_reg/SS_total\n",
    "    return r2\n",
    "    \n",
    "r2_score(y_test, y_preds)"
   ]
  },
  {
   "cell_type": "markdown",
   "id": "dfa3f6a4-e444-4e74-ba43-341625700f87",
   "metadata": {},
   "source": [
    "## Adjusted R-Squared\n",
    "\n",
    "The problem is that R-Squared can be easily hacked. If we overfit our model, this will always increase our r2 score. So the solution is to use adjusted R-squared. Adjusted R-squared will adjust our R-squared number based on the number of features in our model\":"
   ]
  },
  {
   "cell_type": "code",
   "execution_count": 10,
   "id": "8b128952-8a66-4654-9ea2-08e073a3119d",
   "metadata": {},
   "outputs": [
    {
     "data": {
      "text/plain": [
       "0.06379011350160357"
      ]
     },
     "execution_count": 10,
     "metadata": {},
     "output_type": "execute_result"
    }
   ],
   "source": [
    "def adj_r2_score(X, y_test, y_preds):\n",
    "    SS_reg = np.sum((y_test - y_preds)**2)\n",
    "    SS_total = np.sum((y_test - np.mean(y_test))**2)\n",
    "    r2 = 1-SS_reg/SS_total\n",
    "    \n",
    "    N = len(X)\n",
    "    p = len(X.columns)\n",
    "    \n",
    "    adj_r2 = 1-((1-r2)*(N-1))/(N-p-1)\n",
    "    return adj_r2\n",
    "    \n",
    "adj_r2_score(X, y_test, y_preds)"
   ]
  },
  {
   "cell_type": "markdown",
   "id": "da147a4d-05d0-4bc7-a322-cbe1045918a5",
   "metadata": {},
   "source": [
    "## Mean Absolute Error\n",
    "\n",
    "In simple terms, we’re just looking at the absolute average errors for each data point. Then taking an average. This gives us the magnitude of the average error in our dataset:"
   ]
  },
  {
   "cell_type": "code",
   "execution_count": 11,
   "id": "a80ab7b9-ef4d-41d3-a1ef-292666d10d75",
   "metadata": {},
   "outputs": [
    {
     "data": {
      "text/plain": [
       "191902.15686060727"
      ]
     },
     "execution_count": 11,
     "metadata": {},
     "output_type": "execute_result"
    }
   ],
   "source": [
    "def mean_absolute_error(y_test, y_preds):\n",
    "    return np.sum(abs(y_preds - y_test))/len(y_preds)\n",
    "    \n",
    "mean_absolute_error(y_test, y_preds)"
   ]
  },
  {
   "cell_type": "markdown",
   "id": "e29178bb-4581-4efe-a276-7bc1660724cd",
   "metadata": {},
   "source": [
    "## Root Mean Squared Error\n",
    "\n",
    "Instead of taking the absolute value of the errors, in this case we square the errors first. This forces all the errors to be positive. We take the average of the squared errors, which becomes mean-squared error. Then we take the square root, to get RMSE. "
   ]
  },
  {
   "cell_type": "code",
   "execution_count": 12,
   "id": "cc4d2687-a7e2-40a1-92f4-c13ad2efe75c",
   "metadata": {},
   "outputs": [
    {
     "data": {
      "text/plain": [
       "788277.1876925766"
      ]
     },
     "execution_count": 12,
     "metadata": {},
     "output_type": "execute_result"
    }
   ],
   "source": [
    "def mean_squared_error(y_test, y_preds):\n",
    "    return np.sum((y_preds - y_test)**2)/len(y_preds)\n",
    "    \n",
    "np.sqrt(mean_squared_error(y_test, y_preds))"
   ]
  },
  {
   "cell_type": "markdown",
   "id": "bd732d96-7f58-4c5c-828f-ceb45c465f1d",
   "metadata": {},
   "source": [
    "## Conclusion\n",
    "\n",
    "In review, we went over four different regression metrics in this notebook:\n",
    "\n",
    "- R2\n",
    "- Adjusted R2\n",
    "- Mean Absolute Error\n",
    "- Root Mean Squared Error \n"
   ]
  },
  {
   "cell_type": "markdown",
   "id": "bc6a1ee7-ea71-4352-bcef-f8c015070a9f",
   "metadata": {},
   "source": [
    "## Additional Resources\n",
    "- [Model Evaluation Metrics in Machine Learning by Nagesh Singh Chauhan](https://www.kdnuggets.com/2020/05/model-evaluation-metrics-machine-learning.html)\n",
    "- [11 Important Model Evaluation Metrics for Machine Learning Everyone should know](https://www.analyticsvidhya.com/blog/2019/08/11-important-model-evaluation-error-metrics/)\n",
    "- [How To Interpret R-squared in Regression Analysis by Jim Frost](https://statisticsbyjim.com/regression/interpret-r-squared-regression/)\n",
    "- [Know The Best Evaluation Metrics for Your Regression Model by Raghav Agrawal](https://www.analyticsvidhya.com/blog/2021/05/know-the-best-evaluation-metrics-for-your-regression-model/)\n",
    "- [Recall, Precision, F1, ROC, AUC, and everything by Ofir Shalev](https://medium.com/swlh/recall-precision-f1-roc-auc-and-everything-542aedf322b9)\n",
    "- [F1 Score vs ROC AUC vs Accuracy vs PR AUC: Which Evaluation Metric Should You Choose? by Jakub Czakon](https://neptune.ai/blog/f1-score-accuracy-roc-auc-pr-auc)\n",
    "- [Intuition behind Log Loss Score by Gaurav Dembla](https://towardsdatascience.com/intuition-behind-log-loss-score-4e0c9979680a#:~:text=is%20dependent%20on.-,What%20does%20log%2Dloss%20conceptually%20mean%3F,is%20the%20log%2Dloss%20value.)\n",
    "- [Why is ROC AUC equivalent to the probability that two randomly-selected samples are correctly ranked?](https://stats.stackexchange.com/questions/190216/why-is-roc-auc-equivalent-to-the-probability-that-two-randomly-selected-samples)\n",
    "- [Man U Whitney Test](https://en.wikipedia.org/wiki/Mann%E2%80%93Whitney_U_test#Area-under-curve_(AUC)_statistic_for_ROC_curves)\n",
    "- [Essential Things You Need to Know About F1-Score](https://en.wikipedia.org/wiki/Mann%E2%80%93Whitney_U_test#Area-under-curve_(AUC)_statistic_for_ROC_curves)\n",
    "- [ROC, AUC, precision, and recall visually explained by Paul Vanderlaken](https://paulvanderlaken.com/2019/08/16/roc-auc-precision-and-recall-visually-explained/)\n",
    "- [R-squared Is Not Valid for Nonlinear Regression by Jim Frost](https://statisticsbyjim.com/regression/r-squared-invalid-nonlinear-regression/#:~:text=Nonlinear%20regression%20is%20an%20extremely,just%20don%27t%20go%20together.)\n",
    "- [3 Best metrics to evaluate Regression Model? by Songhao Wu](https://towardsdatascience.com/what-are-the-best-metrics-to-evaluate-your-regression-model-418ca481755b)"
   ]
  },
  {
   "cell_type": "code",
   "execution_count": null,
   "id": "421c9032-5a5e-45ab-a9a5-a0253cbfc095",
   "metadata": {},
   "outputs": [],
   "source": []
  }
 ],
 "metadata": {
  "kernelspec": {
   "display_name": "DL_env",
   "language": "python",
   "name": "dl_env"
  },
  "language_info": {
   "codemirror_mode": {
    "name": "ipython",
    "version": 3
   },
   "file_extension": ".py",
   "mimetype": "text/x-python",
   "name": "python",
   "nbconvert_exporter": "python",
   "pygments_lexer": "ipython3",
   "version": "3.6.3"
  }
 },
 "nbformat": 4,
 "nbformat_minor": 5
}
