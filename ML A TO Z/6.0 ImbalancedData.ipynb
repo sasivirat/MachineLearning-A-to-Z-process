{
 "cells": [
  {
   "cell_type": "markdown",
   "id": "d251dff6-b2cd-4e29-90eb-5da87832a5e7",
   "metadata": {},
   "source": [
    "# Dealing with Imbalanced Data\n",
    "In this notebook, we will go through some of the basic techinques for dealing with imbalanced datasets. This is a companion workbook for the 365 Data Science course on ML Process. This notebook only foucses on implementation. Check out the course or the documentation for the in-depth explanations of each approach. \n",
    "\n",
    "We will cover:\n",
    "- Random Oversampling\n",
    "- Random Undersampling \n",
    "- Synthetic Minority Oversampling (SMOTE)\n",
    "- Borderline SMOTE\n",
    "- Adaptive Synthetic Oversampling \n",
    "\n",
    "imblearn Documentation: https://imbalanced-learn.org/stable/\n",
    "\n",
    "\n",
    "### On the Data \n",
    "This dataset is a good representation of what you may see in the real world. Most data will have some imbalances, and in certain domains you will see a lot of inequality. You will likely see large imbalances in cases of expensive purchases or fraud detection."
   ]
  },
  {
   "cell_type": "markdown",
   "id": "0aa2acf7-ebaf-485d-901f-bd69ed6c702a",
   "metadata": {},
   "source": [
    "https://www.kaggle.com/datasets/sasivirat18/machine-learning-datasets"
   ]
  },
  {
   "cell_type": "code",
   "execution_count": 1,
   "id": "87d5e657-d548-4de3-bdab-9d34224d6e2c",
   "metadata": {},
   "outputs": [],
   "source": [
    "import numpy as np # linear algebra\n",
    "import pandas as pd # data processing, CSV file I/O (e.g. pd.read_csv)\n"
   ]
  },
  {
   "cell_type": "code",
   "execution_count": 3,
   "id": "293d1511-a892-47c7-8a35-71b1f034de63",
   "metadata": {},
   "outputs": [],
   "source": [
    "df_train = pd.read_csv(r\"C:\\Users\\sasi virat\\Downloads\\learn-machine-learning-process-a-z\\Section 10\\1_Intro\\Course notes\\aug_train.csv\")"
   ]
  },
  {
   "cell_type": "code",
   "execution_count": 4,
   "id": "355d9690-8c4a-4d33-a6a0-6384f6dd6c17",
   "metadata": {},
   "outputs": [
    {
     "data": {
      "text/html": [
       "<div>\n",
       "<style scoped>\n",
       "    .dataframe tbody tr th:only-of-type {\n",
       "        vertical-align: middle;\n",
       "    }\n",
       "\n",
       "    .dataframe tbody tr th {\n",
       "        vertical-align: top;\n",
       "    }\n",
       "\n",
       "    .dataframe thead th {\n",
       "        text-align: right;\n",
       "    }\n",
       "</style>\n",
       "<table border=\"1\" class=\"dataframe\">\n",
       "  <thead>\n",
       "    <tr style=\"text-align: right;\">\n",
       "      <th></th>\n",
       "      <th>enrollee_id</th>\n",
       "      <th>city</th>\n",
       "      <th>city_development_index</th>\n",
       "      <th>gender</th>\n",
       "      <th>relevent_experience</th>\n",
       "      <th>enrolled_university</th>\n",
       "      <th>education_level</th>\n",
       "      <th>major_discipline</th>\n",
       "      <th>experience</th>\n",
       "      <th>company_size</th>\n",
       "      <th>company_type</th>\n",
       "      <th>last_new_job</th>\n",
       "      <th>training_hours</th>\n",
       "      <th>target</th>\n",
       "    </tr>\n",
       "  </thead>\n",
       "  <tbody>\n",
       "    <tr>\n",
       "      <th>0</th>\n",
       "      <td>8949</td>\n",
       "      <td>city_103</td>\n",
       "      <td>0.920</td>\n",
       "      <td>Male</td>\n",
       "      <td>Has relevent experience</td>\n",
       "      <td>no_enrollment</td>\n",
       "      <td>Graduate</td>\n",
       "      <td>STEM</td>\n",
       "      <td>&gt;20</td>\n",
       "      <td>NaN</td>\n",
       "      <td>NaN</td>\n",
       "      <td>1</td>\n",
       "      <td>36</td>\n",
       "      <td>1.0</td>\n",
       "    </tr>\n",
       "    <tr>\n",
       "      <th>1</th>\n",
       "      <td>29725</td>\n",
       "      <td>city_40</td>\n",
       "      <td>0.776</td>\n",
       "      <td>Male</td>\n",
       "      <td>No relevent experience</td>\n",
       "      <td>no_enrollment</td>\n",
       "      <td>Graduate</td>\n",
       "      <td>STEM</td>\n",
       "      <td>15</td>\n",
       "      <td>50-99</td>\n",
       "      <td>Pvt Ltd</td>\n",
       "      <td>&gt;4</td>\n",
       "      <td>47</td>\n",
       "      <td>0.0</td>\n",
       "    </tr>\n",
       "    <tr>\n",
       "      <th>2</th>\n",
       "      <td>11561</td>\n",
       "      <td>city_21</td>\n",
       "      <td>0.624</td>\n",
       "      <td>NaN</td>\n",
       "      <td>No relevent experience</td>\n",
       "      <td>Full time course</td>\n",
       "      <td>Graduate</td>\n",
       "      <td>STEM</td>\n",
       "      <td>5</td>\n",
       "      <td>NaN</td>\n",
       "      <td>NaN</td>\n",
       "      <td>never</td>\n",
       "      <td>83</td>\n",
       "      <td>0.0</td>\n",
       "    </tr>\n",
       "    <tr>\n",
       "      <th>3</th>\n",
       "      <td>33241</td>\n",
       "      <td>city_115</td>\n",
       "      <td>0.789</td>\n",
       "      <td>NaN</td>\n",
       "      <td>No relevent experience</td>\n",
       "      <td>NaN</td>\n",
       "      <td>Graduate</td>\n",
       "      <td>Business Degree</td>\n",
       "      <td>&lt;1</td>\n",
       "      <td>NaN</td>\n",
       "      <td>Pvt Ltd</td>\n",
       "      <td>never</td>\n",
       "      <td>52</td>\n",
       "      <td>1.0</td>\n",
       "    </tr>\n",
       "    <tr>\n",
       "      <th>4</th>\n",
       "      <td>666</td>\n",
       "      <td>city_162</td>\n",
       "      <td>0.767</td>\n",
       "      <td>Male</td>\n",
       "      <td>Has relevent experience</td>\n",
       "      <td>no_enrollment</td>\n",
       "      <td>Masters</td>\n",
       "      <td>STEM</td>\n",
       "      <td>&gt;20</td>\n",
       "      <td>50-99</td>\n",
       "      <td>Funded Startup</td>\n",
       "      <td>4</td>\n",
       "      <td>8</td>\n",
       "      <td>0.0</td>\n",
       "    </tr>\n",
       "  </tbody>\n",
       "</table>\n",
       "</div>"
      ],
      "text/plain": [
       "   enrollee_id      city  city_development_index gender  \\\n",
       "0         8949  city_103                   0.920   Male   \n",
       "1        29725   city_40                   0.776   Male   \n",
       "2        11561   city_21                   0.624    NaN   \n",
       "3        33241  city_115                   0.789    NaN   \n",
       "4          666  city_162                   0.767   Male   \n",
       "\n",
       "       relevent_experience enrolled_university education_level  \\\n",
       "0  Has relevent experience       no_enrollment        Graduate   \n",
       "1   No relevent experience       no_enrollment        Graduate   \n",
       "2   No relevent experience    Full time course        Graduate   \n",
       "3   No relevent experience                 NaN        Graduate   \n",
       "4  Has relevent experience       no_enrollment         Masters   \n",
       "\n",
       "  major_discipline experience company_size    company_type last_new_job  \\\n",
       "0             STEM        >20          NaN             NaN            1   \n",
       "1             STEM         15        50-99         Pvt Ltd           >4   \n",
       "2             STEM          5          NaN             NaN        never   \n",
       "3  Business Degree         <1          NaN         Pvt Ltd        never   \n",
       "4             STEM        >20        50-99  Funded Startup            4   \n",
       "\n",
       "   training_hours  target  \n",
       "0              36     1.0  \n",
       "1              47     0.0  \n",
       "2              83     0.0  \n",
       "3              52     1.0  \n",
       "4               8     0.0  "
      ]
     },
     "execution_count": 4,
     "metadata": {},
     "output_type": "execute_result"
    }
   ],
   "source": [
    "df_train.head()"
   ]
  },
  {
   "cell_type": "code",
   "execution_count": 5,
   "id": "374c8d75-e385-4c9b-b68a-5fc2a89d22b6",
   "metadata": {},
   "outputs": [
    {
     "data": {
      "text/plain": [
       "target\n",
       "0.0    14381\n",
       "1.0     4777\n",
       "Name: count, dtype: int64"
      ]
     },
     "execution_count": 5,
     "metadata": {},
     "output_type": "execute_result"
    }
   ],
   "source": [
    "df_train.target.value_counts()"
   ]
  },
  {
   "cell_type": "code",
   "execution_count": 6,
   "id": "a6d4004d-60bc-465c-9fd8-76257a01cb48",
   "metadata": {},
   "outputs": [],
   "source": [
    "#create validation dataset to see how different sampling methocds could impact model outcomes\n",
    "from sklearn.model_selection import train_test_split\n",
    "\n",
    "X = pd.get_dummies(df_train.drop(['enrollee_id','target'], axis =1))\n",
    "y = df_train[['target']]\n",
    "\n",
    "X_train, X_test, y_train, y_test = train_test_split(X, y, test_size=0.2, random_state=42)"
   ]
  },
  {
   "cell_type": "code",
   "execution_count": 7,
   "id": "f18a7910-199b-4c4e-b249-520ecd765fb9",
   "metadata": {},
   "outputs": [
    {
     "data": {
      "text/plain": [
       "<Axes: xlabel='target'>"
      ]
     },
     "execution_count": 7,
     "metadata": {},
     "output_type": "execute_result"
    },
    {
     "data": {
      "image/png": "[encoded data removed]",
      "text/plain": [
       "<Figure size 640x480 with 1 Axes>"
      ]
     },
     "metadata": {},
     "output_type": "display_data"
    }
   ],
   "source": [
    "# see imblance in data majority is not looking for a job change (0)\n",
    "y_train.value_counts().plot.bar()"
   ]
  },
  {
   "cell_type": "code",
   "execution_count": 8,
   "id": "38e1da36-86fd-41bb-8b89-06cb3db05ada",
   "metadata": {},
   "outputs": [
    {
     "data": {
      "text/plain": [
       "Index(['enrollee_id', 'city', 'city_development_index', 'gender',\n",
       "       'relevent_experience', 'enrolled_university', 'education_level',\n",
       "       'major_discipline', 'experience', 'company_size', 'company_type',\n",
       "       'last_new_job', 'training_hours', 'target'],\n",
       "      dtype='object')"
      ]
     },
     "execution_count": 8,
     "metadata": {},
     "output_type": "execute_result"
    }
   ],
   "source": [
    "df_train.columns"
   ]
  },
  {
   "cell_type": "code",
   "execution_count": 9,
   "id": "106e0455-e3b2-47dc-99b0-0b0c8b2a593d",
   "metadata": {},
   "outputs": [],
   "source": [
    "# model to validate on \n"
   ]
  },
  {
   "cell_type": "markdown",
   "id": "f790ee35-7415-4320-9230-229e2547a2a2",
   "metadata": {},
   "source": [
    "## Parameters \n",
    "\n",
    "### For all sampling models\n",
    "\n",
    "sampling_strategy: float, str, dict or callable, default=’auto’\n",
    "\n",
    ">- float\n",
    "    - When float, it corresponds to the desired ratio of the number of samples in the minority class over \n",
    "    the number of samples in the majority class after resampling. Therefore, the ratio is expressed as \n",
    "    \\alpha_{os} = N_{rm} / N_{M} where N_{rm} is the number of samples in the minority class after \n",
    "    resampling and N_{M} is the number of samples in the majority class.\n",
    ">- str\n",
    ">    - 'minority': resample only the minority class;\n",
    ">\n",
    ">    - 'not minority': resample all classes but the minority class;\n",
    ">\n",
    ">    - 'not majority': resample all classes but the majority class;\n",
    ">\n",
    ">    - 'all': resample all classes;\n",
    ">\n",
    ">    - 'auto': equivalent to 'not majority'. \n",
    ">- dict\n",
    "    - When dict, the keys correspond to the targeted classes. The values correspond to the desired number\n",
    "    of samples for each targeted class.\n",
    "\n",
    "random_state: int, RandomState instance, default=None \n",
    "- int --> Most cases use this to set a consistent random state\n",
    "\n",
    "shrinkage: float or dict, default=None\n",
    "- Shrinkage allows us to add slight noise to our data so that our resampled variables don't perfectly overlap. This could be useful for normalization of our results. A good example of how this works is located here: https://imbalanced-learn.org/stable/auto_examples/over-sampling/plot_shrinkage_effect.html\n",
    ">- if **None**, a normal bootstrap will be generated without perturbation. It is equivalent to shrinkage=0 as well\n",
    ">- if a **float** is given, the shrinkage factor will be used for all classes to generate the smoothed bootstrap;\n",
    ">- if a **dict** is given, the shrinkage factor will specific for each class. The key correspond to the targeted class and the value is the shrinkage factor.\n",
    "\n",
    "### For Smote and Borderline Smote\n",
    "k_neighbor: sint or object, default=5\n",
    ">- If int, number of nearest neighbours to used to construct synthetic samples. If object, an estimator that inherits from KNeighborsMixin that will be used to find the k_neighbors.\n",
    "\n",
    "n_jobs: int, default=None\n",
    ">- Number of CPU cores used during the cross-validation loop. None means 1 unless in a joblib.parallel_backend context. -1 means using all processors. See Glossary for more details.\n",
    "\n",
    "### For Borderline Smote\n",
    "kind: {“borderline-1”, “borderline-2”}, default=’borderline-1’\n",
    ">- The type of SMOTE algorithm to use one of the following options: 'borderline-1', 'borderline-2'.\n",
    ">    -Breakdown of difference between borderline-1 and borderline-2: https://sci2s.ugr.es/keel/pdf/specific/congreso/han_borderline_smote.pdf\n",
    "\n",
    "Copied from Docs: https://imbalanced-learn.org/stable/references/generated/imblearn.over_sampling.RandomOverSampler.html\n",
    "Smote: https://imbalanced-learn.org/stable/references/generated/imblearn.over_sampling.SMOTE.html\n",
    "Borderline Smote: https://imbalanced-learn.org/stable/references/generated/imblearn.over_sampling.BorderlineSMOTE.html"
   ]
  },
  {
   "cell_type": "markdown",
   "id": "c68b20b9-b6f5-46d6-b9f6-e76c3b4263c7",
   "metadata": {},
   "source": [
    "# Random Oversampling\n",
    "Random Oversampling is simply randomly picking data points in our minority class and duplicating them. "
   ]
  },
  {
   "cell_type": "code",
   "execution_count": 10,
   "id": "650242f7-259a-43d3-8eed-91c030cc9d08",
   "metadata": {},
   "outputs": [],
   "source": [
    "from imblearn.over_sampling import RandomOverSampler\n",
    "\n",
    "o_smpl = RandomOverSampler(random_state = 42) \n",
    "\n",
    "X_o_smpl, y_o_smpl = o_smpl.fit_resample(X_train,y_train)\n"
   ]
  },
  {
   "cell_type": "code",
   "execution_count": 11,
   "id": "ed5671ba-01ba-4e0f-8528-d46ba89688b8",
   "metadata": {},
   "outputs": [
    {
     "data": {
      "text/plain": [
       "<Axes: xlabel='target'>"
      ]
     },
     "execution_count": 11,
     "metadata": {},
     "output_type": "execute_result"
    },
    {
     "data": {
      "image/png": "[encoded data removed]",
      "text/plain": [
       "<Figure size 640x480 with 1 Axes>"
      ]
     },
     "metadata": {},
     "output_type": "display_data"
    }
   ],
   "source": [
    "y_o_smpl.value_counts().plot.bar()"
   ]
  },
  {
   "cell_type": "markdown",
   "id": "0e2553ae-eb68-4638-9505-6d5147e4cc9a",
   "metadata": {},
   "source": [
    "# Random Undersampling\n",
    "Random Undersampling is simply randomly picking data points in our majority class and removing them. "
   ]
  },
  {
   "cell_type": "code",
   "execution_count": 12,
   "id": "bc552b5b-1777-4923-b223-a80cee326124",
   "metadata": {},
   "outputs": [],
   "source": [
    "from imblearn.under_sampling import RandomUnderSampler\n",
    "\n",
    "u_smpl = RandomUnderSampler(random_state = 42) \n",
    "\n",
    "X_u_smpl, y_u_smpl = u_smpl.fit_resample(X_train,y_train)\n"
   ]
  },
  {
   "cell_type": "code",
   "execution_count": 13,
   "id": "185b41ab-8278-4af5-95e0-3befc993214b",
   "metadata": {},
   "outputs": [
    {
     "data": {
      "text/plain": [
       "<Axes: xlabel='target'>"
      ]
     },
     "execution_count": 13,
     "metadata": {},
     "output_type": "execute_result"
    },
    {
     "data": {
      "image/png": "[encoded data removed]",
      "text/plain": [
       "<Figure size 640x480 with 1 Axes>"
      ]
     },
     "metadata": {},
     "output_type": "display_data"
    }
   ],
   "source": [
    "#note how many less total rows we have now \n",
    "y_u_smpl.value_counts().plot.bar()"
   ]
  },
  {
   "cell_type": "markdown",
   "id": "810fe41b-d071-4aff-9e11-44bbae20f913",
   "metadata": {},
   "source": [
    "# Synthetic Minority Oversampling (SMOTE)\n",
    "Synthetic Minority Oversampling (SMOTE) is an oversampling technique that creates synthetic data points. SMOTE address’ the core problem in oversampling. Oversampling creates duplicate datapoints whereas SMOTE slightly alters these data points. "
   ]
  },
  {
   "cell_type": "code",
   "execution_count": 14,
   "id": "8d1cd8d7-48d8-4127-be89-6fe09be45cfe",
   "metadata": {},
   "outputs": [],
   "source": [
    "from imblearn.over_sampling import SMOTE \n",
    "\n",
    "smote = SMOTE(random_state = 42) \n",
    "\n",
    "X_smote, y_smote = smote.fit_resample(X_train,y_train)"
   ]
  },
  {
   "cell_type": "code",
   "execution_count": 15,
   "id": "4f4e252f-710f-4d22-999f-00d3c83141ff",
   "metadata": {},
   "outputs": [
    {
     "data": {
      "text/plain": [
       "<Axes: xlabel='target'>"
      ]
     },
     "execution_count": 15,
     "metadata": {},
     "output_type": "execute_result"
    },
    {
     "data": {
      "image/png": "[encoded data removed]",
      "text/plain": [
       "<Figure size 640x480 with 1 Axes>"
      ]
     },
     "metadata": {},
     "output_type": "display_data"
    }
   ],
   "source": [
    "y_smote.value_counts().plot.bar()"
   ]
  },
  {
   "cell_type": "markdown",
   "id": "1601859e-67d4-43a8-ad27-16ca43201878",
   "metadata": {},
   "source": [
    "# Borderline Smote\n",
    "The idea behind borderline SMOTE is that we only want to use data that’s at risk of being misclassified as the data to be oversampled. In this case, we build a classifier to classify points as positive or negative. Then, for the data points we misclassify, we oversample those data points. This would hopefully train our algorithm to better recognize these difficult instances and correct for them. "
   ]
  },
  {
   "cell_type": "code",
   "execution_count": 16,
   "id": "d86545b6-5d8e-4c58-9a6f-3ac5a5eb5ca6",
   "metadata": {},
   "outputs": [],
   "source": [
    "from imblearn.over_sampling import BorderlineSMOTE\n",
    "\n",
    "bsmote = BorderlineSMOTE(random_state = 42) \n",
    "\n",
    "X_bsmote, y_bsmote = bsmote.fit_resample(X_train,y_train)"
   ]
  },
  {
   "cell_type": "code",
   "execution_count": 17,
   "id": "e4f3f90e-b2be-419b-8332-2a7ca1828f4a",
   "metadata": {},
   "outputs": [
    {
     "data": {
      "text/plain": [
       "<Axes: xlabel='target'>"
      ]
     },
     "execution_count": 17,
     "metadata": {},
     "output_type": "execute_result"
    },
    {
     "data": {
      "image/png": "[encoded data removed]",
      "text/plain": [
       "<Figure size 640x480 with 1 Axes>"
      ]
     },
     "metadata": {},
     "output_type": "display_data"
    }
   ],
   "source": [
    "y_bsmote.value_counts().plot.bar()"
   ]
  },
  {
   "cell_type": "markdown",
   "id": "62eff148-0a6d-4da0-8a69-563c60398f78",
   "metadata": {},
   "source": [
    "# Adaptive Synthetic Oversampling (ADASYN)\n",
    "The idea behind AdaSyn is to use a weight distribution of our minority class. Essentially, we give higher weight to instances that are more difficult to learn and lower weight to instances that are easier to learn. AdaSyn is very similar to safe-level SMOTE, except there’s just a different way of computing the synthetic data points. "
   ]
  },
  {
   "cell_type": "code",
   "execution_count": 19,
   "id": "d48f09b6-2b00-4dbc-92fa-a71694c3e01d",
   "metadata": {},
   "outputs": [],
   "source": [
    "from imblearn.over_sampling import ADASYN \n",
    "adasyn = ADASYN(random_state = 42) \n",
    "\n",
    "X_ada, y_ada = adasyn.fit_resample(X_train,y_train)"
   ]
  },
  {
   "cell_type": "code",
   "execution_count": 20,
   "id": "a02f511c-eb33-42dc-a568-7b8ce81671f8",
   "metadata": {},
   "outputs": [
    {
     "data": {
      "text/plain": [
       "<Axes: xlabel='target'>"
      ]
     },
     "execution_count": 20,
     "metadata": {},
     "output_type": "execute_result"
    },
    {
     "data": {
      "image/png": "[encoded data removed]",
      "text/plain": [
       "<Figure size 640x480 with 1 Axes>"
      ]
     },
     "metadata": {},
     "output_type": "display_data"
    }
   ],
   "source": [
    "y_ada.value_counts().plot.bar()"
   ]
  },
  {
   "cell_type": "markdown",
   "id": "4a45580f-b619-4d0a-8d72-92ab46b6645d",
   "metadata": {},
   "source": [
    "# How do these compare?\n",
    "Let's quickly compare our sampling techniques by looking at the differences in the sampling data. Then let's compare the results of after feeding them into a model. This is just a little experiment, but it can show how much of a difference sampling can make depending on your data and models. \n",
    "\n",
    "Let's train a simple random forest on each of the different types of samples, then let's see the difference in validation accuracy. "
   ]
  },
  {
   "cell_type": "code",
   "execution_count": 22,
   "id": "8f276592-942a-4cf1-baa8-a812a9f11c7d",
   "metadata": {},
   "outputs": [
    {
     "name": "stdout",
     "output_type": "stream",
     "text": [
      "city_development_index Differences:\n",
      "0.8050509955656031\n",
      "0.804366839719024\n",
      "0.8074956518366563\n",
      "0.8080140827270007\n",
      "training_hours Differences:\n",
      "64.42535431701592\n",
      "64.32162420659073\n",
      "65.60416485522998\n",
      "65.88537378114843\n"
     ]
    }
   ],
   "source": [
    "#let's explore a few variables across these 4 different oversampling techniques across two variables 'city_development_index' and 'training_hours'\n",
    "\n",
    "print('city_development_index Differences:')\n",
    "for i in [X_o_smpl, X_smote, X_bsmote, X_ada]:\n",
    "    print(i.mean()['city_development_index'])\n",
    "\n",
    "print('training_hours Differences:')\n",
    "for i in [X_o_smpl, X_smote, X_bsmote, X_ada]:\n",
    "    print(i.mean()['training_hours'])\n",
    "    \n",
    "#what is important here is that there are differences in the sampling of each techinque, not where the differences come in these two variables "
   ]
  },
  {
   "cell_type": "code",
   "execution_count": 23,
   "id": "ac1b646c-1fb7-45e9-bdfb-643b153c73b6",
   "metadata": {},
   "outputs": [
    {
     "name": "stderr",
     "output_type": "stream",
     "text": [
      "C:\\Users\\sasi virat\\AppData\\Local\\Temp\\ipykernel_336\\2198834000.py:6: DataConversionWarning: A column-vector y was passed when a 1d array was expected. Please change the shape of y to (n_samples,), for example using ravel().\n",
      "  clf_os.fit(X_o_smpl, y_o_smpl)\n",
      "C:\\Users\\sasi virat\\AppData\\Local\\Temp\\ipykernel_336\\2198834000.py:11: DataConversionWarning: A column-vector y was passed when a 1d array was expected. Please change the shape of y to (n_samples,), for example using ravel().\n",
      "  clf_us.fit(X_u_smpl, y_u_smpl)\n",
      "C:\\Users\\sasi virat\\AppData\\Local\\Temp\\ipykernel_336\\2198834000.py:16: DataConversionWarning: A column-vector y was passed when a 1d array was expected. Please change the shape of y to (n_samples,), for example using ravel().\n",
      "  clf_sm.fit(X_smote, y_smote)\n",
      "C:\\Users\\sasi virat\\AppData\\Local\\Temp\\ipykernel_336\\2198834000.py:21: DataConversionWarning: A column-vector y was passed when a 1d array was expected. Please change the shape of y to (n_samples,), for example using ravel().\n",
      "  clf_bsm.fit(X_bsmote, y_bsmote)\n",
      "C:\\Users\\sasi virat\\AppData\\Local\\Temp\\ipykernel_336\\2198834000.py:26: DataConversionWarning: A column-vector y was passed when a 1d array was expected. Please change the shape of y to (n_samples,), for example using ravel().\n",
      "  clf_ada.fit(X_ada, y_ada)\n"
     ]
    },
    {
     "name": "stdout",
     "output_type": "stream",
     "text": [
      "Oversampling Score: 0.782\n",
      "Undersampling Score: 0.754\n",
      "SMOTE Score: 0.778 \n",
      "Borderline SMOTE Score: 0.776\n",
      "ADASYN Score: 0.774\n"
     ]
    }
   ],
   "source": [
    "from sklearn.ensemble import RandomForestClassifier\n",
    "from sklearn.metrics import accuracy_score\n",
    "\n",
    "#oversampling model \n",
    "clf_os = RandomForestClassifier(random_state=0)\n",
    "clf_os.fit(X_o_smpl, y_o_smpl)\n",
    "os_pred = clf_os.predict(X_test)\n",
    "\n",
    "#undersampling model \n",
    "clf_us = RandomForestClassifier(random_state=0)\n",
    "clf_us.fit(X_u_smpl, y_u_smpl)\n",
    "us_pred = clf_us.predict(X_test)\n",
    "\n",
    "#SMOTE \n",
    "clf_sm = RandomForestClassifier(random_state=0)\n",
    "clf_sm.fit(X_smote, y_smote)\n",
    "sm_pred = clf_sm.predict(X_test)\n",
    "\n",
    "#borderline SMOTE \n",
    "clf_bsm = RandomForestClassifier(random_state=0)\n",
    "clf_bsm.fit(X_bsmote, y_bsmote)\n",
    "bsm_pred = clf_bsm.predict(X_test)\n",
    "\n",
    "#ADDASYN\n",
    "clf_ada = RandomForestClassifier(random_state=0)\n",
    "clf_ada.fit(X_ada, y_ada)\n",
    "ada_pred = clf_ada.predict(X_test)\n",
    "\n",
    "print('Oversampling Score: %.3f' % accuracy_score(y_test,os_pred))\n",
    "print('Undersampling Score: %.3f' % accuracy_score(y_test,us_pred))\n",
    "print('SMOTE Score: %.3f '% accuracy_score(y_test,sm_pred))\n",
    "print('Borderline SMOTE Score: %.3f'% accuracy_score(y_test,bsm_pred))\n",
    "print('ADASYN Score: %.3f'% accuracy_score(y_test,ada_pred))"
   ]
  },
  {
   "cell_type": "code",
   "execution_count": 24,
   "id": "5f17b93d-0e3c-4b91-a707-2beb2a950b6d",
   "metadata": {},
   "outputs": [
    {
     "name": "stderr",
     "output_type": "stream",
     "text": [
      "C:\\Users\\sasi virat\\AppData\\Local\\Temp\\ipykernel_336\\3596811913.py:2: DataConversionWarning: A column-vector y was passed when a 1d array was expected. Please change the shape of y to (n_samples,), for example using ravel().\n",
      "  clf.fit(X_train, y_train)\n"
     ]
    },
    {
     "name": "stdout",
     "output_type": "stream",
     "text": [
      "No Change Score: 0.774\n"
     ]
    }
   ],
   "source": [
    "clf = RandomForestClassifier(random_state=0)\n",
    "clf.fit(X_train, y_train)\n",
    "pred = clf_ada.predict(X_test)\n",
    "print('No Change Score: %.3f'% accuracy_score(y_test,pred))"
   ]
  },
  {
   "cell_type": "code",
   "execution_count": 25,
   "id": "39d51267-df25-4c98-a2d5-b2adf97b062f",
   "metadata": {},
   "outputs": [],
   "source": [
    "#now let's tune some features in SMOTE to see if we get slightly better results. Let's do this with SMOTE"
   ]
  },
  {
   "cell_type": "code",
   "execution_count": 26,
   "id": "561b5d83-a46b-46ec-aba1-0359db2a75c4",
   "metadata": {},
   "outputs": [
    {
     "name": "stdout",
     "output_type": "stream",
     "text": [
      "K = 1\n",
      "SMOTE Score: 0.780 \n",
      "K = 2\n",
      "SMOTE Score: 0.777 \n",
      "K = 3\n",
      "SMOTE Score: 0.775 \n",
      "K = 4\n",
      "SMOTE Score: 0.778 \n",
      "K = 5\n",
      "SMOTE Score: 0.778 \n",
      "K = 6\n",
      "SMOTE Score: 0.776 \n",
      "K = 7\n",
      "SMOTE Score: 0.769 \n",
      "K = 8\n",
      "SMOTE Score: 0.777 \n",
      "K = 9\n",
      "SMOTE Score: 0.779 \n"
     ]
    }
   ],
   "source": [
    "for i in range(1,10,1):\n",
    "    smote = SMOTE(k_neighbors = i, random_state=42) \n",
    "\n",
    "    X_smote, y_smote = smote.fit_resample(X_train,y_train)\n",
    "\n",
    "    clf_sm = RandomForestClassifier(random_state=0)\n",
    "    clf_sm.fit(X_smote, y_smote.values.ravel())\n",
    "    sm_pred = clf_sm.predict(X_test)\n",
    "    print('K = ' +str(i))\n",
    "    print('SMOTE Score: %.3f '% accuracy_score(y_test,sm_pred))\n",
    "    \n",
    "#it seems like k = 5 produced the best results. "
   ]
  },
  {
   "cell_type": "markdown",
   "id": "5a716a16-198e-4be6-88b4-abf36fbd3e41",
   "metadata": {},
   "source": [
    "## Additional Resources\n",
    "- [10 Techniques to deal with Imbalanced Classes in Machine Learning by Analytics Vidhya](https://www.analyticsvidhya.com/blog/2020/07/10-techniques-to-deal-with-class-imbalance-in-machine-learning/)\n",
    "- [Oversampling and Undersampling by Kurtis Pykes](https://towardsdatascience.com/oversampling-and-undersampling-5e2bbaf56dcf)\n",
    "- [Overcoming Class Imbalance using SMOTE Techniques](https://www.analyticsvidhya.com/blog/2020/10/overcoming-class-imbalance-using-smote-techniques/)\n",
    "- [SMOTE explained for noobs – Synthetic Minority Over-sampling TEchnique line by line by Rich Data](https://rikunert.com/smote_explained)\n",
    "- [SMOTE by Joos Korstanje](https://towardsdatascience.com/smote-fdce2f605729)\n",
    "- [5 SMOTE Techniques for Oversampling your Imbalance Data by Cornellius Yudha Wijaya](https://towardsdatascience.com/5-smote-techniques-for-oversampling-your-imbalance-data-b8155bdbe2b5)\n",
    "- [Fixing Imbalanced Datasets: An Introduction to ADASYN by Rui Nian](https://medium.com/@ruinian/an-introduction-to-adasyn-with-code-1383a5ece7aa)\n"
   ]
  },
  {
   "cell_type": "code",
   "execution_count": null,
   "id": "33495f99-bb4c-4d9a-a293-20fd2975a9b7",
   "metadata": {},
   "outputs": [],
   "source": []
  }
 ],
 "metadata": {
  "kernelspec": {
   "display_name": "Python 3 (ipykernel)",
   "language": "python",
   "name": "python3"
  },
  "language_info": {
   "codemirror_mode": {
    "name": "ipython",
    "version": 3
   },
   "file_extension": ".py",
   "mimetype": "text/x-python",
   "name": "python",
   "nbconvert_exporter": "python",
   "pygments_lexer": "ipython3",
   "version": "3.11.7"
  }
 },
 "nbformat": 4,
 "nbformat_minor": 5
}
